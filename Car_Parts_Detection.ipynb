{
  "nbformat": 4,
  "nbformat_minor": 0,
  "metadata": {
    "colab": {
      "name": "car_side.ipynb",
      "provenance": [],
      "collapsed_sections": []
    },
    "kernelspec": {
      "name": "python3",
      "display_name": "Python 3"
    },
    "accelerator": "GPU"
  },
  "cells": [
    {
      "cell_type": "code",
      "metadata": {
        "id": "_Wkft3nsUf5w",
        "colab": {
          "base_uri": "https://localhost:8080/"
        },
        "outputId": "e86e1a84-7a82-432a-91ed-64304c45aff3"
      },
      "source": [
        "from google.colab import drive\n",
        "drive.mount('/content/drive')"
      ],
      "execution_count": null,
      "outputs": [
        {
          "output_type": "stream",
          "name": "stdout",
          "text": [
            "Mounted at /content/drive\n"
          ]
        }
      ]
    },
    {
      "cell_type": "markdown",
      "metadata": {
        "id": "UYdee71UJDSF"
      },
      "source": [
        "# **Steps** <p>\n",
        "Step 1: Load Dataset <p>\n",
        "Step 2: Transform the Dataset <p>\n",
        "Step 3: Create Model <p>\n",
        "Step 4: Train Model <p>\n",
        "Step 5: Save the Model <p>\n",
        "Step 6: Load the Model <p>\n",
        "Step 7: Predict the Image <p>\n",
        "Step 8: Show the result"
      ]
    },
    {
      "cell_type": "markdown",
      "metadata": {
        "id": "4T7noSJhJUFr"
      },
      "source": [
        "# **Step 1: Load Dataset**"
      ]
    },
    {
      "cell_type": "code",
      "metadata": {
        "id": "xB_62Or7PxYY",
        "colab": {
          "base_uri": "https://localhost:8080/"
        },
        "outputId": "c7d0c710-aff9-424a-8c19-9d5c98d3eb02"
      },
      "source": [
        "cp -av /content/drive/MyDrive/Dataset/ImageClassification . ."
      ],
      "execution_count": null,
      "outputs": [
        {
          "output_type": "stream",
          "name": "stdout",
          "text": [
            "'/content/drive/MyDrive/Dataset/ImageClassification' -> './ImageClassification'\n",
            "'/content/drive/MyDrive/Dataset/ImageClassification/classify.py' -> './ImageClassification/classify.py'\n",
            "'/content/drive/MyDrive/Dataset/ImageClassification/train.py' -> './ImageClassification/train.py'\n",
            "'/content/drive/MyDrive/Dataset/ImageClassification/pyimagesearch' -> './ImageClassification/pyimagesearch'\n",
            "'/content/drive/MyDrive/Dataset/ImageClassification/pyimagesearch/__init__.py' -> './ImageClassification/pyimagesearch/__init__.py'\n",
            "'/content/drive/MyDrive/Dataset/ImageClassification/pyimagesearch/smallervggnet.py' -> './ImageClassification/pyimagesearch/smallervggnet.py'\n",
            "'/content/drive/MyDrive/Dataset/ImageClassification/pyimagesearch/.DS_Store' -> './ImageClassification/pyimagesearch/.DS_Store'\n",
            "'/content/drive/MyDrive/Dataset/ImageClassification/pyimagesearch/__pycache__' -> './ImageClassification/pyimagesearch/__pycache__'\n",
            "'/content/drive/MyDrive/Dataset/ImageClassification/pyimagesearch/__pycache__/__init__.cpython-37.pyc' -> './ImageClassification/pyimagesearch/__pycache__/__init__.cpython-37.pyc'\n",
            "'/content/drive/MyDrive/Dataset/ImageClassification/pyimagesearch/__pycache__/__init__.cpython-36.pyc' -> './ImageClassification/pyimagesearch/__pycache__/__init__.cpython-36.pyc'\n",
            "'/content/drive/MyDrive/Dataset/ImageClassification/pyimagesearch/__pycache__/__init__.cpython-38.pyc' -> './ImageClassification/pyimagesearch/__pycache__/__init__.cpython-38.pyc'\n",
            "'/content/drive/MyDrive/Dataset/ImageClassification/pyimagesearch/__pycache__/smallervggnet.cpython-37.pyc' -> './ImageClassification/pyimagesearch/__pycache__/smallervggnet.cpython-37.pyc'\n",
            "'/content/drive/MyDrive/Dataset/ImageClassification/pyimagesearch/__pycache__/smallervggnet.cpython-38.pyc' -> './ImageClassification/pyimagesearch/__pycache__/smallervggnet.cpython-38.pyc'\n",
            "'/content/drive/MyDrive/Dataset/ImageClassification/pyimagesearch/__pycache__/smallervggnet.cpython-36.pyc' -> './ImageClassification/pyimagesearch/__pycache__/smallervggnet.cpython-36.pyc'\n",
            "'/content/drive/MyDrive/Dataset/ImageClassification/dataset' -> './ImageClassification/dataset'\n",
            "'/content/drive/MyDrive/Dataset/ImageClassification/dataset/No Damage' -> './ImageClassification/dataset/No Damage'\n",
            "'/content/drive/MyDrive/Dataset/ImageClassification/dataset/No Damage/1_c77efe9e9cbc26dc07caf8f147831908.jpg' -> './ImageClassification/dataset/No Damage/1_c77efe9e9cbc26dc07caf8f147831908.jpg'\n",
            "'/content/drive/MyDrive/Dataset/ImageClassification/dataset/No Damage/1b2083f6fb8ca8d3574fddb5df79671a.jpg' -> './ImageClassification/dataset/No Damage/1b2083f6fb8ca8d3574fddb5df79671a.jpg'\n",
            "'/content/drive/MyDrive/Dataset/ImageClassification/dataset/No Damage/02e4cd30ad8e7095cd149314ee853408.jpg' -> './ImageClassification/dataset/No Damage/02e4cd30ad8e7095cd149314ee853408.jpg'\n",
            "'/content/drive/MyDrive/Dataset/ImageClassification/dataset/No Damage/3.jpg' -> './ImageClassification/dataset/No Damage/3.jpg'\n",
            "'/content/drive/MyDrive/Dataset/ImageClassification/dataset/No Damage/1ae9f749a938af.jpg' -> './ImageClassification/dataset/No Damage/1ae9f749a938af.jpg'\n",
            "'/content/drive/MyDrive/Dataset/ImageClassification/dataset/No Damage/5ce16779bf61ba.jpg' -> './ImageClassification/dataset/No Damage/5ce16779bf61ba.jpg'\n",
            "'/content/drive/MyDrive/Dataset/ImageClassification/dataset/No Damage/0ccfe17c06782a.jpg' -> './ImageClassification/dataset/No Damage/0ccfe17c06782a.jpg'\n",
            "'/content/drive/MyDrive/Dataset/ImageClassification/dataset/No Damage/2b0eeb26df5469.jpg' -> './ImageClassification/dataset/No Damage/2b0eeb26df5469.jpg'\n",
            "'/content/drive/MyDrive/Dataset/ImageClassification/dataset/No Damage/3e3341215028b5.jpg' -> './ImageClassification/dataset/No Damage/3e3341215028b5.jpg'\n",
            "'/content/drive/MyDrive/Dataset/ImageClassification/dataset/No Damage/2fc6ffe5e4d00b.jpg' -> './ImageClassification/dataset/No Damage/2fc6ffe5e4d00b.jpg'\n",
            "'/content/drive/MyDrive/Dataset/ImageClassification/dataset/No Damage/4ceb720dd2a461.jpg' -> './ImageClassification/dataset/No Damage/4ceb720dd2a461.jpg'\n",
            "'/content/drive/MyDrive/Dataset/ImageClassification/dataset/No Damage/2 back.jpg' -> './ImageClassification/dataset/No Damage/2 back.jpg'\n",
            "'/content/drive/MyDrive/Dataset/ImageClassification/dataset/No Damage/0ff9e9b49c52cd.jpg' -> './ImageClassification/dataset/No Damage/0ff9e9b49c52cd.jpg'\n",
            "'/content/drive/MyDrive/Dataset/ImageClassification/dataset/No Damage/03a0e45fe87196.jpg' -> './ImageClassification/dataset/No Damage/03a0e45fe87196.jpg'\n",
            "'/content/drive/MyDrive/Dataset/ImageClassification/dataset/No Damage/5a3522a1e25443.jpg' -> './ImageClassification/dataset/No Damage/5a3522a1e25443.jpg'\n",
            "'/content/drive/MyDrive/Dataset/ImageClassification/dataset/No Damage/2c63c65bb3d7bb.jpg' -> './ImageClassification/dataset/No Damage/2c63c65bb3d7bb.jpg'\n",
            "'/content/drive/MyDrive/Dataset/ImageClassification/dataset/No Damage/0e81c5efb06b21.jpg' -> './ImageClassification/dataset/No Damage/0e81c5efb06b21.jpg'\n",
            "'/content/drive/MyDrive/Dataset/ImageClassification/dataset/No Damage/4ca168528b4de1.jpg' -> './ImageClassification/dataset/No Damage/4ca168528b4de1.jpg'\n",
            "'/content/drive/MyDrive/Dataset/ImageClassification/dataset/No Damage/05da3081d5a4227f96ccd81bd59dd3b0--bmw-s-future-car.jpg' -> './ImageClassification/dataset/No Damage/05da3081d5a4227f96ccd81bd59dd3b0--bmw-s-future-car.jpg'\n",
            "'/content/drive/MyDrive/Dataset/ImageClassification/dataset/No Damage/00003.jpg' -> './ImageClassification/dataset/No Damage/00003.jpg'\n",
            "'/content/drive/MyDrive/Dataset/ImageClassification/dataset/No Damage/0a98dbebbf6a74.jpg' -> './ImageClassification/dataset/No Damage/0a98dbebbf6a74.jpg'\n",
            "'/content/drive/MyDrive/Dataset/ImageClassification/dataset/No Damage/2ae09fdd8f0b87.jpg' -> './ImageClassification/dataset/No Damage/2ae09fdd8f0b87.jpg'\n",
            "'/content/drive/MyDrive/Dataset/ImageClassification/dataset/No Damage/2d3c284be7e25a.jpg' -> './ImageClassification/dataset/No Damage/2d3c284be7e25a.jpg'\n",
            "'/content/drive/MyDrive/Dataset/ImageClassification/dataset/No Damage/4ac876d0f1210f.jpg' -> './ImageClassification/dataset/No Damage/4ac876d0f1210f.jpg'\n",
            "'/content/drive/MyDrive/Dataset/ImageClassification/dataset/No Damage/00002.jpg' -> './ImageClassification/dataset/No Damage/00002.jpg'\n",
            "'/content/drive/MyDrive/Dataset/ImageClassification/dataset/No Damage/1cff31e7c2aa35.jpg' -> './ImageClassification/dataset/No Damage/1cff31e7c2aa35.jpg'\n",
            "'/content/drive/MyDrive/Dataset/ImageClassification/dataset/No Damage/3bddb5b4cbf370.jpg' -> './ImageClassification/dataset/No Damage/3bddb5b4cbf370.jpg'\n",
            "'/content/drive/MyDrive/Dataset/ImageClassification/dataset/No Damage/2edfa525355999.jpg' -> './ImageClassification/dataset/No Damage/2edfa525355999.jpg'\n",
            "'/content/drive/MyDrive/Dataset/ImageClassification/dataset/No Damage/4b9b549783aa65.jpg' -> './ImageClassification/dataset/No Damage/4b9b549783aa65.jpg'\n",
            "'/content/drive/MyDrive/Dataset/ImageClassification/dataset/No Damage/00001.jpg' -> './ImageClassification/dataset/No Damage/00001.jpg'\n",
            "'/content/drive/MyDrive/Dataset/ImageClassification/dataset/No Damage/2ae37e0a36fc9b.jpg' -> './ImageClassification/dataset/No Damage/2ae37e0a36fc9b.jpg'\n",
            "'/content/drive/MyDrive/Dataset/ImageClassification/dataset/No Damage/2b837132e9f47b.jpg' -> './ImageClassification/dataset/No Damage/2b837132e9f47b.jpg'\n",
            "'/content/drive/MyDrive/Dataset/ImageClassification/dataset/No Damage/0e33c11fbe2cf9.jpg' -> './ImageClassification/dataset/No Damage/0e33c11fbe2cf9.jpg'\n",
            "'/content/drive/MyDrive/Dataset/ImageClassification/dataset/No Damage/3d4bbfb43beaa9.jpg' -> './ImageClassification/dataset/No Damage/3d4bbfb43beaa9.jpg'\n",
            "'/content/drive/MyDrive/Dataset/ImageClassification/dataset/No Damage/2a3f882424ed7b.jpg' -> './ImageClassification/dataset/No Damage/2a3f882424ed7b.jpg'\n",
            "'/content/drive/MyDrive/Dataset/ImageClassification/dataset/No Damage/3b176af4530097.jpg' -> './ImageClassification/dataset/No Damage/3b176af4530097.jpg'\n",
            "'/content/drive/MyDrive/Dataset/ImageClassification/dataset/No Damage/005e5cf28f037f.jpg' -> './ImageClassification/dataset/No Damage/005e5cf28f037f.jpg'\n",
            "'/content/drive/MyDrive/Dataset/ImageClassification/dataset/No Damage/4ca2448196aca0.jpg' -> './ImageClassification/dataset/No Damage/4ca2448196aca0.jpg'\n",
            "'/content/drive/MyDrive/Dataset/ImageClassification/dataset/No Damage/0fa4037ebe610d.jpg' -> './ImageClassification/dataset/No Damage/0fa4037ebe610d.jpg'\n",
            "'/content/drive/MyDrive/Dataset/ImageClassification/dataset/No Damage/4d1b3c5f9795d1.jpg' -> './ImageClassification/dataset/No Damage/4d1b3c5f9795d1.jpg'\n",
            "'/content/drive/MyDrive/Dataset/ImageClassification/dataset/No Damage/4cfb81dc30e917.jpg' -> './ImageClassification/dataset/No Damage/4cfb81dc30e917.jpg'\n",
            "'/content/drive/MyDrive/Dataset/ImageClassification/dataset/No Damage/03ff0faa563247.jpg' -> './ImageClassification/dataset/No Damage/03ff0faa563247.jpg'\n",
            "'/content/drive/MyDrive/Dataset/ImageClassification/dataset/No Damage/5b8ef655503a73.jpg' -> './ImageClassification/dataset/No Damage/5b8ef655503a73.jpg'\n",
            "'/content/drive/MyDrive/Dataset/ImageClassification/dataset/No Damage/5c055fa9e9750e.jpg' -> './ImageClassification/dataset/No Damage/5c055fa9e9750e.jpg'\n",
            "'/content/drive/MyDrive/Dataset/ImageClassification/dataset/No Damage/3b9160ca19f241.jpg' -> './ImageClassification/dataset/No Damage/3b9160ca19f241.jpg'\n",
            "'/content/drive/MyDrive/Dataset/ImageClassification/dataset/Damege' -> './ImageClassification/dataset/Damege'\n",
            "'/content/drive/MyDrive/Dataset/ImageClassification/dataset/Damege/door (43).jpg' -> './ImageClassification/dataset/Damege/door (43).jpg'\n",
            "'/content/drive/MyDrive/Dataset/ImageClassification/dataset/Damege/door (45).jpeg' -> './ImageClassification/dataset/Damege/door (45).jpeg'\n",
            "'/content/drive/MyDrive/Dataset/ImageClassification/dataset/Damege/door (32).jpeg' -> './ImageClassification/dataset/Damege/door (32).jpeg'\n",
            "'/content/drive/MyDrive/Dataset/ImageClassification/dataset/Damege/door (75).jpg' -> './ImageClassification/dataset/Damege/door (75).jpg'\n",
            "'/content/drive/MyDrive/Dataset/ImageClassification/dataset/Damege/door (41).jpeg' -> './ImageClassification/dataset/Damege/door (41).jpeg'\n",
            "'/content/drive/MyDrive/Dataset/ImageClassification/dataset/Damege/door (43).jpeg' -> './ImageClassification/dataset/Damege/door (43).jpeg'\n",
            "'/content/drive/MyDrive/Dataset/ImageClassification/dataset/Damege/door (48).jpeg' -> './ImageClassification/dataset/Damege/door (48).jpeg'\n",
            "'/content/drive/MyDrive/Dataset/ImageClassification/dataset/Damege/door (31).jpg' -> './ImageClassification/dataset/Damege/door (31).jpg'\n",
            "'/content/drive/MyDrive/Dataset/ImageClassification/dataset/Damege/door (47).jpg' -> './ImageClassification/dataset/Damege/door (47).jpg'\n",
            "'/content/drive/MyDrive/Dataset/ImageClassification/dataset/Damege/door (41).jpg' -> './ImageClassification/dataset/Damege/door (41).jpg'\n",
            "'/content/drive/MyDrive/Dataset/ImageClassification/dataset/Damege/door (39).jpeg' -> './ImageClassification/dataset/Damege/door (39).jpeg'\n",
            "'/content/drive/MyDrive/Dataset/ImageClassification/dataset/Damege/door (68).jpg' -> './ImageClassification/dataset/Damege/door (68).jpg'\n",
            "'/content/drive/MyDrive/Dataset/ImageClassification/dataset/Damege/door (46).jpg' -> './ImageClassification/dataset/Damege/door (46).jpg'\n",
            "'/content/drive/MyDrive/Dataset/ImageClassification/dataset/Damege/door (66).jpg' -> './ImageClassification/dataset/Damege/door (66).jpg'\n",
            "'/content/drive/MyDrive/Dataset/ImageClassification/dataset/Damege/door (51).jpg' -> './ImageClassification/dataset/Damege/door (51).jpg'\n",
            "'/content/drive/MyDrive/Dataset/ImageClassification/dataset/Damege/door (38).jpg' -> './ImageClassification/dataset/Damege/door (38).jpg'\n",
            "'/content/drive/MyDrive/Dataset/ImageClassification/dataset/Damege/door (70).jpg' -> './ImageClassification/dataset/Damege/door (70).jpg'\n",
            "'/content/drive/MyDrive/Dataset/ImageClassification/dataset/Damege/door (35).jpg' -> './ImageClassification/dataset/Damege/door (35).jpg'\n",
            "'/content/drive/MyDrive/Dataset/ImageClassification/dataset/Damege/door (48).jpg' -> './ImageClassification/dataset/Damege/door (48).jpg'\n",
            "'/content/drive/MyDrive/Dataset/ImageClassification/dataset/Damege/door (31).jpeg' -> './ImageClassification/dataset/Damege/door (31).jpeg'\n",
            "'/content/drive/MyDrive/Dataset/ImageClassification/dataset/Damege/door (50).jpg' -> './ImageClassification/dataset/Damege/door (50).jpg'\n",
            "'/content/drive/MyDrive/Dataset/ImageClassification/dataset/Damege/door (42).jpg' -> './ImageClassification/dataset/Damege/door (42).jpg'\n",
            "'/content/drive/MyDrive/Dataset/ImageClassification/dataset/Damege/door (69).jpg' -> './ImageClassification/dataset/Damege/door (69).jpg'\n",
            "'/content/drive/MyDrive/Dataset/ImageClassification/dataset/Damege/door (59).jpg' -> './ImageClassification/dataset/Damege/door (59).jpg'\n",
            "'/content/drive/MyDrive/Dataset/ImageClassification/dataset/Damege/door (29).jpeg' -> './ImageClassification/dataset/Damege/door (29).jpeg'\n",
            "'/content/drive/MyDrive/Dataset/ImageClassification/dataset/Damege/door (52).jpg' -> './ImageClassification/dataset/Damege/door (52).jpg'\n",
            "'/content/drive/MyDrive/Dataset/ImageClassification/dataset/Damege/door (37).jpeg' -> './ImageClassification/dataset/Damege/door (37).jpeg'\n",
            "'/content/drive/MyDrive/Dataset/ImageClassification/dataset/Damege/door (30).jpeg' -> './ImageClassification/dataset/Damege/door (30).jpeg'\n",
            "'/content/drive/MyDrive/Dataset/ImageClassification/dataset/Damege/door (34).jpg' -> './ImageClassification/dataset/Damege/door (34).jpg'\n",
            "'/content/drive/MyDrive/Dataset/ImageClassification/dataset/Damege/door (38).jpeg' -> './ImageClassification/dataset/Damege/door (38).jpeg'\n",
            "'/content/drive/MyDrive/Dataset/ImageClassification/dataset/Damege/door (37).jpg' -> './ImageClassification/dataset/Damege/door (37).jpg'\n",
            "'/content/drive/MyDrive/Dataset/ImageClassification/dataset/Damege/door (60).jpg' -> './ImageClassification/dataset/Damege/door (60).jpg'\n",
            "'/content/drive/MyDrive/Dataset/ImageClassification/dataset/Damege/door (29).jpg' -> './ImageClassification/dataset/Damege/door (29).jpg'\n",
            "'/content/drive/MyDrive/Dataset/ImageClassification/dataset/Damege/door (73).jpg' -> './ImageClassification/dataset/Damege/door (73).jpg'\n",
            "'/content/drive/MyDrive/Dataset/ImageClassification/dataset/Damege/door (44).jpeg' -> './ImageClassification/dataset/Damege/door (44).jpeg'\n",
            "'/content/drive/MyDrive/Dataset/ImageClassification/dataset/Damege/door (58).jpg' -> './ImageClassification/dataset/Damege/door (58).jpg'\n",
            "'/content/drive/MyDrive/Dataset/ImageClassification/dataset/Damege/door (53).jpg' -> './ImageClassification/dataset/Damege/door (53).jpg'\n",
            "'/content/drive/MyDrive/Dataset/ImageClassification/dataset/Damege/door (42).jpeg' -> './ImageClassification/dataset/Damege/door (42).jpeg'\n",
            "'/content/drive/MyDrive/Dataset/ImageClassification/dataset/Damege/door (30).jpg' -> './ImageClassification/dataset/Damege/door (30).jpg'\n",
            "'/content/drive/MyDrive/Dataset/ImageClassification/dataset/Damege/door (63).jpg' -> './ImageClassification/dataset/Damege/door (63).jpg'\n",
            "'/content/drive/MyDrive/Dataset/ImageClassification/dataset/Damege/door (40).jpeg' -> './ImageClassification/dataset/Damege/door (40).jpeg'\n",
            "'/content/drive/MyDrive/Dataset/ImageClassification/dataset/Damege/door (33).jpg' -> './ImageClassification/dataset/Damege/door (33).jpg'\n",
            "'/content/drive/MyDrive/Dataset/ImageClassification/dataset/Damege/door (57).jpg' -> './ImageClassification/dataset/Damege/door (57).jpg'\n",
            "'/content/drive/MyDrive/Dataset/ImageClassification/dataset/Damege/door (67).jpg' -> './ImageClassification/dataset/Damege/door (67).jpg'\n",
            "'/content/drive/MyDrive/Dataset/ImageClassification/dataset/Damege/door (55).jpg' -> './ImageClassification/dataset/Damege/door (55).jpg'\n",
            "'/content/drive/MyDrive/Dataset/ImageClassification/dataset/Damege/door (34).jpeg' -> './ImageClassification/dataset/Damege/door (34).jpeg'\n",
            "'/content/drive/MyDrive/Dataset/ImageClassification/dataset/Damege/door (51).JPEG' -> './ImageClassification/dataset/Damege/door (51).JPEG'\n",
            "'/content/drive/MyDrive/Dataset/ImageClassification/dataset/Damege/door (47).jpeg' -> './ImageClassification/dataset/Damege/door (47).jpeg'\n",
            "'/content/drive/MyDrive/Dataset/ImageClassification/dataset/Damege/door (44).jpg' -> './ImageClassification/dataset/Damege/door (44).jpg'\n",
            "'/content/drive/MyDrive/Dataset/ImageClassification/dataset/Damege/door (45).jpg' -> './ImageClassification/dataset/Damege/door (45).jpg'\n",
            "'/content/drive/MyDrive/Dataset/ImageClassification/dataset/Damege/door (65).jpg' -> './ImageClassification/dataset/Damege/door (65).jpg'\n",
            "'/content/drive/MyDrive/Dataset/ImageClassification/dataset/Damege/door (56).jpg' -> './ImageClassification/dataset/Damege/door (56).jpg'\n",
            "'/content/drive/MyDrive/Dataset/ImageClassification/dataset/Damege/door (49).jpg' -> './ImageClassification/dataset/Damege/door (49).jpg'\n",
            "'/content/drive/MyDrive/Dataset/ImageClassification/dataset/Damege/door (46).jpeg' -> './ImageClassification/dataset/Damege/door (46).jpeg'\n",
            "'/content/drive/MyDrive/Dataset/ImageClassification/dataset/Damege/door (33).jpeg' -> './ImageClassification/dataset/Damege/door (33).jpeg'\n",
            "'/content/drive/MyDrive/Dataset/ImageClassification/dataset/Damege/door (35).jpeg' -> './ImageClassification/dataset/Damege/door (35).jpeg'\n",
            "'/content/drive/MyDrive/Dataset/ImageClassification/dataset/Damege/door (36).jpeg' -> './ImageClassification/dataset/Damege/door (36).jpeg'\n",
            "'/content/drive/MyDrive/Dataset/ImageClassification/dataset/Damege/door (72).jpg' -> './ImageClassification/dataset/Damege/door (72).jpg'\n",
            "'/content/drive/MyDrive/Dataset/ImageClassification/dataset/Damege/door (74).jpg' -> './ImageClassification/dataset/Damege/door (74).jpg'\n",
            "'/content/drive/MyDrive/Dataset/ImageClassification/dataset/Damege/door (40).jpg' -> './ImageClassification/dataset/Damege/door (40).jpg'\n",
            "'/content/drive/MyDrive/Dataset/ImageClassification/dataset/Damege/door (62).jpg' -> './ImageClassification/dataset/Damege/door (62).jpg'\n",
            "'/content/drive/MyDrive/Dataset/ImageClassification/dataset/Damege/door (28).jpg' -> './ImageClassification/dataset/Damege/door (28).jpg'\n",
            "'/content/drive/MyDrive/Dataset/ImageClassification/dataset/Damege/door (61).jpg' -> './ImageClassification/dataset/Damege/door (61).jpg'\n",
            "'/content/drive/MyDrive/Dataset/ImageClassification/dataset/Damege/door (54).jpg' -> './ImageClassification/dataset/Damege/door (54).jpg'\n",
            "'/content/drive/MyDrive/Dataset/ImageClassification/dataset/Damege/door (27).jpg' -> './ImageClassification/dataset/Damege/door (27).jpg'\n",
            "'/content/drive/MyDrive/Dataset/ImageClassification/dataset/Damege/door (50).JPEG' -> './ImageClassification/dataset/Damege/door (50).JPEG'\n",
            "'/content/drive/MyDrive/Dataset/ImageClassification/dataset/Damege/door (71).jpg' -> './ImageClassification/dataset/Damege/door (71).jpg'\n",
            "cp: '.' and './.' are the same file\n"
          ]
        }
      ]
    },
    {
      "cell_type": "code",
      "metadata": {
        "colab": {
          "base_uri": "https://localhost:8080/"
        },
        "id": "2GYD6bEHYhnA",
        "outputId": "4073d182-7e87-4b12-e050-b6e1c6fe9f37"
      },
      "source": [
        "cp -av /content/drive/MyDrive/Dataset/DatasetSide . ."
      ],
      "execution_count": null,
      "outputs": [
        {
          "output_type": "stream",
          "name": "stdout",
          "text": [
            "'/content/drive/MyDrive/Dataset/DatasetSide' -> './DatasetSide'\n",
            "'/content/drive/MyDrive/Dataset/DatasetSide/Rear' -> './DatasetSide/Rear'\n",
            "'/content/drive/MyDrive/Dataset/DatasetSide/Rear/Rear (54).jpg' -> './DatasetSide/Rear/Rear (54).jpg'\n",
            "'/content/drive/MyDrive/Dataset/DatasetSide/Rear/Rear (11).jpg' -> './DatasetSide/Rear/Rear (11).jpg'\n",
            "'/content/drive/MyDrive/Dataset/DatasetSide/Rear/Rear (6).JPEG' -> './DatasetSide/Rear/Rear (6).JPEG'\n",
            "'/content/drive/MyDrive/Dataset/DatasetSide/Rear/Rear (14).jpg' -> './DatasetSide/Rear/Rear (14).jpg'\n",
            "'/content/drive/MyDrive/Dataset/DatasetSide/Rear/Rear (5).jpeg' -> './DatasetSide/Rear/Rear (5).jpeg'\n",
            "'/content/drive/MyDrive/Dataset/DatasetSide/Rear/Rear (36).JPEG' -> './DatasetSide/Rear/Rear (36).JPEG'\n",
            "'/content/drive/MyDrive/Dataset/DatasetSide/Rear/Rear (30).JPEG' -> './DatasetSide/Rear/Rear (30).JPEG'\n",
            "'/content/drive/MyDrive/Dataset/DatasetSide/Rear/Rear (19).JPEG' -> './DatasetSide/Rear/Rear (19).JPEG'\n",
            "'/content/drive/MyDrive/Dataset/DatasetSide/Rear/Rear (23).JPEG' -> './DatasetSide/Rear/Rear (23).JPEG'\n",
            "'/content/drive/MyDrive/Dataset/DatasetSide/Rear/Rear (36).jpg' -> './DatasetSide/Rear/Rear (36).jpg'\n",
            "'/content/drive/MyDrive/Dataset/DatasetSide/Rear/Rear (21).JPEG' -> './DatasetSide/Rear/Rear (21).JPEG'\n",
            "'/content/drive/MyDrive/Dataset/DatasetSide/Rear/Rear (4).JPEG' -> './DatasetSide/Rear/Rear (4).JPEG'\n",
            "'/content/drive/MyDrive/Dataset/DatasetSide/Rear/Rear (38).JPEG' -> './DatasetSide/Rear/Rear (38).JPEG'\n",
            "'/content/drive/MyDrive/Dataset/DatasetSide/Rear/Rear (7).JPEG' -> './DatasetSide/Rear/Rear (7).JPEG'\n",
            "'/content/drive/MyDrive/Dataset/DatasetSide/Rear/Rear (8).JPEG' -> './DatasetSide/Rear/Rear (8).JPEG'\n",
            "'/content/drive/MyDrive/Dataset/DatasetSide/Rear/Rear (14).JPEG' -> './DatasetSide/Rear/Rear (14).JPEG'\n",
            "'/content/drive/MyDrive/Dataset/DatasetSide/Rear/Rear (3).JPEG' -> './DatasetSide/Rear/Rear (3).JPEG'\n",
            "'/content/drive/MyDrive/Dataset/DatasetSide/Rear/Rear (37).JPEG' -> './DatasetSide/Rear/Rear (37).JPEG'\n",
            "'/content/drive/MyDrive/Dataset/DatasetSide/Rear/Rear (32).JPEG' -> './DatasetSide/Rear/Rear (32).JPEG'\n",
            "'/content/drive/MyDrive/Dataset/DatasetSide/Rear/Rear (18).JPEG' -> './DatasetSide/Rear/Rear (18).JPEG'\n",
            "'/content/drive/MyDrive/Dataset/DatasetSide/Rear/Rear (27).JPEG' -> './DatasetSide/Rear/Rear (27).JPEG'\n",
            "'/content/drive/MyDrive/Dataset/DatasetSide/Rear/Rear (13).JPEG' -> './DatasetSide/Rear/Rear (13).JPEG'\n",
            "'/content/drive/MyDrive/Dataset/DatasetSide/Rear/Rear (33).JPEG' -> './DatasetSide/Rear/Rear (33).JPEG'\n",
            "'/content/drive/MyDrive/Dataset/DatasetSide/Rear/Rear (9).JPEG' -> './DatasetSide/Rear/Rear (9).JPEG'\n",
            "'/content/drive/MyDrive/Dataset/DatasetSide/Rear/Rear (44).JPEG' -> './DatasetSide/Rear/Rear (44).JPEG'\n",
            "'/content/drive/MyDrive/Dataset/DatasetSide/Rear/Rear (34).JPEG' -> './DatasetSide/Rear/Rear (34).JPEG'\n",
            "'/content/drive/MyDrive/Dataset/DatasetSide/Rear/Rear (68).jpg' -> './DatasetSide/Rear/Rear (68).jpg'\n",
            "'/content/drive/MyDrive/Dataset/DatasetSide/Rear/Rear (40).jpeg' -> './DatasetSide/Rear/Rear (40).jpeg'\n",
            "'/content/drive/MyDrive/Dataset/DatasetSide/Rear/Rear (15).jpeg' -> './DatasetSide/Rear/Rear (15).jpeg'\n",
            "'/content/drive/MyDrive/Dataset/DatasetSide/Rear/Rear (29).JPEG' -> './DatasetSide/Rear/Rear (29).JPEG'\n",
            "'/content/drive/MyDrive/Dataset/DatasetSide/Rear/Rear (20).JPEG' -> './DatasetSide/Rear/Rear (20).JPEG'\n",
            "'/content/drive/MyDrive/Dataset/DatasetSide/Rear/Rear (22).JPEG' -> './DatasetSide/Rear/Rear (22).JPEG'\n",
            "'/content/drive/MyDrive/Dataset/DatasetSide/Rear/Rear (24).JPEG' -> './DatasetSide/Rear/Rear (24).JPEG'\n",
            "'/content/drive/MyDrive/Dataset/DatasetSide/Rear/Rear (16).JPEG' -> './DatasetSide/Rear/Rear (16).JPEG'\n",
            "'/content/drive/MyDrive/Dataset/DatasetSide/Rear/Rear (17).JPEG' -> './DatasetSide/Rear/Rear (17).JPEG'\n",
            "'/content/drive/MyDrive/Dataset/DatasetSide/Rear/Rear (10).jpeg' -> './DatasetSide/Rear/Rear (10).jpeg'\n",
            "'/content/drive/MyDrive/Dataset/DatasetSide/Rear/Rear (39).JPEG' -> './DatasetSide/Rear/Rear (39).JPEG'\n",
            "'/content/drive/MyDrive/Dataset/DatasetSide/Rear/Rear (31).JPEG' -> './DatasetSide/Rear/Rear (31).JPEG'\n",
            "'/content/drive/MyDrive/Dataset/DatasetSide/Rear/Rear (31).jpg' -> './DatasetSide/Rear/Rear (31).jpg'\n",
            "'/content/drive/MyDrive/Dataset/DatasetSide/Rear/Rear (39).jpg' -> './DatasetSide/Rear/Rear (39).jpg'\n",
            "'/content/drive/MyDrive/Dataset/DatasetSide/Rear/Rear (17).jpg' -> './DatasetSide/Rear/Rear (17).jpg'\n",
            "'/content/drive/MyDrive/Dataset/DatasetSide/Rear/Rear (46).jpeg' -> './DatasetSide/Rear/Rear (46).jpeg'\n",
            "'/content/drive/MyDrive/Dataset/DatasetSide/Rear/Rear (13).jpg' -> './DatasetSide/Rear/Rear (13).jpg'\n",
            "'/content/drive/MyDrive/Dataset/DatasetSide/Rear/Rear (120).jpg' -> './DatasetSide/Rear/Rear (120).jpg'\n",
            "'/content/drive/MyDrive/Dataset/DatasetSide/Rear/Rear (79).jpg' -> './DatasetSide/Rear/Rear (79).jpg'\n",
            "'/content/drive/MyDrive/Dataset/DatasetSide/Rear/Rear (118).jpg' -> './DatasetSide/Rear/Rear (118).jpg'\n",
            "'/content/drive/MyDrive/Dataset/DatasetSide/Rear/Rear (40).jpg' -> './DatasetSide/Rear/Rear (40).jpg'\n",
            "'/content/drive/MyDrive/Dataset/DatasetSide/Rear/Rear (130).jpg' -> './DatasetSide/Rear/Rear (130).jpg'\n",
            "'/content/drive/MyDrive/Dataset/DatasetSide/Rear/Rear (74).jpg' -> './DatasetSide/Rear/Rear (74).jpg'\n",
            "'/content/drive/MyDrive/Dataset/DatasetSide/Rear/Rear (41).JPEG' -> './DatasetSide/Rear/Rear (41).JPEG'\n",
            "'/content/drive/MyDrive/Dataset/DatasetSide/Rear/Rear (73).jpg' -> './DatasetSide/Rear/Rear (73).jpg'\n",
            "'/content/drive/MyDrive/Dataset/DatasetSide/Rear/Rear (1).jpg' -> './DatasetSide/Rear/Rear (1).jpg'\n",
            "'/content/drive/MyDrive/Dataset/DatasetSide/Rear/Rear (61).jpg' -> './DatasetSide/Rear/Rear (61).jpg'\n",
            "'/content/drive/MyDrive/Dataset/DatasetSide/Rear/Rear (80).jpg' -> './DatasetSide/Rear/Rear (80).jpg'\n",
            "'/content/drive/MyDrive/Dataset/DatasetSide/Rear/Rear (51).jpg' -> './DatasetSide/Rear/Rear (51).jpg'\n",
            "'/content/drive/MyDrive/Dataset/DatasetSide/Rear/Rear (18).jpg' -> './DatasetSide/Rear/Rear (18).jpg'\n",
            "'/content/drive/MyDrive/Dataset/DatasetSide/Rear/Rear (62).jpg' -> './DatasetSide/Rear/Rear (62).jpg'\n",
            "'/content/drive/MyDrive/Dataset/DatasetSide/Rear/Rear (59).jpg' -> './DatasetSide/Rear/Rear (59).jpg'\n",
            "'/content/drive/MyDrive/Dataset/DatasetSide/Rear/Rear (42).jpeg' -> './DatasetSide/Rear/Rear (42).jpeg'\n",
            "'/content/drive/MyDrive/Dataset/DatasetSide/Rear/Rear (35).JPEG' -> './DatasetSide/Rear/Rear (35).JPEG'\n",
            "'/content/drive/MyDrive/Dataset/DatasetSide/Rear/Rear (126).jpg' -> './DatasetSide/Rear/Rear (126).jpg'\n",
            "'/content/drive/MyDrive/Dataset/DatasetSide/Rear/Rear (47).jpg' -> './DatasetSide/Rear/Rear (47).jpg'\n",
            "'/content/drive/MyDrive/Dataset/DatasetSide/Rear/Rear (52).jpg' -> './DatasetSide/Rear/Rear (52).jpg'\n",
            "'/content/drive/MyDrive/Dataset/DatasetSide/Rear/Rear (20).jpg' -> './DatasetSide/Rear/Rear (20).jpg'\n",
            "'/content/drive/MyDrive/Dataset/DatasetSide/Rear/Rear (70).jpg' -> './DatasetSide/Rear/Rear (70).jpg'\n",
            "'/content/drive/MyDrive/Dataset/DatasetSide/Rear/Rear (37).jpg' -> './DatasetSide/Rear/Rear (37).jpg'\n",
            "'/content/drive/MyDrive/Dataset/DatasetSide/Rear/Rear (46).jpg' -> './DatasetSide/Rear/Rear (46).jpg'\n",
            "'/content/drive/MyDrive/Dataset/DatasetSide/Rear/Rear (12).jpeg' -> './DatasetSide/Rear/Rear (12).jpeg'\n",
            "'/content/drive/MyDrive/Dataset/DatasetSide/Rear/Rear (50).jpg' -> './DatasetSide/Rear/Rear (50).jpg'\n",
            "'/content/drive/MyDrive/Dataset/DatasetSide/Rear/Rear (129).jpg' -> './DatasetSide/Rear/Rear (129).jpg'\n",
            "'/content/drive/MyDrive/Dataset/DatasetSide/Rear/Rear (9).jpg' -> './DatasetSide/Rear/Rear (9).jpg'\n",
            "'/content/drive/MyDrive/Dataset/DatasetSide/Rear/Rear (11).JPEG' -> './DatasetSide/Rear/Rear (11).JPEG'\n",
            "'/content/drive/MyDrive/Dataset/DatasetSide/Rear/Rear (19).jpg' -> './DatasetSide/Rear/Rear (19).jpg'\n",
            "'/content/drive/MyDrive/Dataset/DatasetSide/Rear/Rear (48).jpg' -> './DatasetSide/Rear/Rear (48).jpg'\n",
            "'/content/drive/MyDrive/Dataset/DatasetSide/Rear/Rear (10).jpg' -> './DatasetSide/Rear/Rear (10).jpg'\n",
            "'/content/drive/MyDrive/Dataset/DatasetSide/Rear/Rear (56).jpg' -> './DatasetSide/Rear/Rear (56).jpg'\n",
            "'/content/drive/MyDrive/Dataset/DatasetSide/Rear/Rear (72).jpg' -> './DatasetSide/Rear/Rear (72).jpg'\n",
            "'/content/drive/MyDrive/Dataset/DatasetSide/Rear/Rear (49).jpg' -> './DatasetSide/Rear/Rear (49).jpg'\n",
            "'/content/drive/MyDrive/Dataset/DatasetSide/Rear/Rear (42).jpg' -> './DatasetSide/Rear/Rear (42).jpg'\n",
            "'/content/drive/MyDrive/Dataset/DatasetSide/Rear/Rear (41).jpg' -> './DatasetSide/Rear/Rear (41).jpg'\n",
            "'/content/drive/MyDrive/Dataset/DatasetSide/Rear/Rear (60).jpg' -> './DatasetSide/Rear/Rear (60).jpg'\n",
            "'/content/drive/MyDrive/Dataset/DatasetSide/Rear/Rear (3).jpg' -> './DatasetSide/Rear/Rear (3).jpg'\n",
            "'/content/drive/MyDrive/Dataset/DatasetSide/Rear/Rear (108).jpg' -> './DatasetSide/Rear/Rear (108).jpg'\n",
            "'/content/drive/MyDrive/Dataset/DatasetSide/Rear/Rear (116).jpg' -> './DatasetSide/Rear/Rear (116).jpg'\n",
            "'/content/drive/MyDrive/Dataset/DatasetSide/Rear/Rear (101).jpg' -> './DatasetSide/Rear/Rear (101).jpg'\n",
            "'/content/drive/MyDrive/Dataset/DatasetSide/Rear/Rear (99).jpg' -> './DatasetSide/Rear/Rear (99).jpg'\n",
            "'/content/drive/MyDrive/Dataset/DatasetSide/Rear/Rear (44).jpg' -> './DatasetSide/Rear/Rear (44).jpg'\n",
            "'/content/drive/MyDrive/Dataset/DatasetSide/Rear/Rear (21).JPG' -> './DatasetSide/Rear/Rear (21).JPG'\n",
            "'/content/drive/MyDrive/Dataset/DatasetSide/Rear/Rear (1).png' -> './DatasetSide/Rear/Rear (1).png'\n",
            "'/content/drive/MyDrive/Dataset/DatasetSide/Rear/Rear (105).jpg' -> './DatasetSide/Rear/Rear (105).jpg'\n",
            "'/content/drive/MyDrive/Dataset/DatasetSide/Rear/Rear (63).jpg' -> './DatasetSide/Rear/Rear (63).jpg'\n",
            "'/content/drive/MyDrive/Dataset/DatasetSide/Rear/Rear (28).JPEG' -> './DatasetSide/Rear/Rear (28).JPEG'\n",
            "'/content/drive/MyDrive/Dataset/DatasetSide/Rear/Rear (66).jpg' -> './DatasetSide/Rear/Rear (66).jpg'\n",
            "'/content/drive/MyDrive/Dataset/DatasetSide/Rear/Rear (64).jpg' -> './DatasetSide/Rear/Rear (64).jpg'\n",
            "'/content/drive/MyDrive/Dataset/DatasetSide/Rear/Rear (58).jpg' -> './DatasetSide/Rear/Rear (58).jpg'\n",
            "'/content/drive/MyDrive/Dataset/DatasetSide/Rear/Rear (78).jpg' -> './DatasetSide/Rear/Rear (78).jpg'\n",
            "'/content/drive/MyDrive/Dataset/DatasetSide/Rear/Rear (81).jpg' -> './DatasetSide/Rear/Rear (81).jpg'\n",
            "'/content/drive/MyDrive/Dataset/DatasetSide/Rear/Rear (16).jpg' -> './DatasetSide/Rear/Rear (16).jpg'\n",
            "'/content/drive/MyDrive/Dataset/DatasetSide/Rear/Rear (95).jpg' -> './DatasetSide/Rear/Rear (95).jpg'\n",
            "'/content/drive/MyDrive/Dataset/DatasetSide/Rear/Rear (104).jpg' -> './DatasetSide/Rear/Rear (104).jpg'\n",
            "'/content/drive/MyDrive/Dataset/DatasetSide/Rear/Rear (117).jpg' -> './DatasetSide/Rear/Rear (117).jpg'\n",
            "'/content/drive/MyDrive/Dataset/DatasetSide/Rear/Rear (82).jpg' -> './DatasetSide/Rear/Rear (82).jpg'\n",
            "'/content/drive/MyDrive/Dataset/DatasetSide/Rear/Rear (38).jpg' -> './DatasetSide/Rear/Rear (38).jpg'\n",
            "'/content/drive/MyDrive/Dataset/DatasetSide/Rear/Rear (114).jpg' -> './DatasetSide/Rear/Rear (114).jpg'\n",
            "'/content/drive/MyDrive/Dataset/DatasetSide/Rear/Rear (1).jfif' -> './DatasetSide/Rear/Rear (1).jfif'\n",
            "'/content/drive/MyDrive/Dataset/DatasetSide/Rear/Rear (6).jpg' -> './DatasetSide/Rear/Rear (6).jpg'\n",
            "'/content/drive/MyDrive/Dataset/DatasetSide/Rear/Rear (100).jpg' -> './DatasetSide/Rear/Rear (100).jpg'\n",
            "'/content/drive/MyDrive/Dataset/DatasetSide/Rear/Rear (34).jpg' -> './DatasetSide/Rear/Rear (34).jpg'\n",
            "'/content/drive/MyDrive/Dataset/DatasetSide/Rear/Rear (96).jpg' -> './DatasetSide/Rear/Rear (96).jpg'\n",
            "'/content/drive/MyDrive/Dataset/DatasetSide/Rear/Rear (65).jpg' -> './DatasetSide/Rear/Rear (65).jpg'\n",
            "'/content/drive/MyDrive/Dataset/DatasetSide/Rear/Rear (107).jpg' -> './DatasetSide/Rear/Rear (107).jpg'\n",
            "'/content/drive/MyDrive/Dataset/DatasetSide/Rear/Rear (1).JPEG' -> './DatasetSide/Rear/Rear (1).JPEG'\n",
            "'/content/drive/MyDrive/Dataset/DatasetSide/Rear/Rear (53).jpg' -> './DatasetSide/Rear/Rear (53).jpg'\n",
            "'/content/drive/MyDrive/Dataset/DatasetSide/Rear/Rear (109).jpg' -> './DatasetSide/Rear/Rear (109).jpg'\n",
            "'/content/drive/MyDrive/Dataset/DatasetSide/Rear/Rear (103).jpg' -> './DatasetSide/Rear/Rear (103).jpg'\n",
            "'/content/drive/MyDrive/Dataset/DatasetSide/Rear/Rear (102).jpg' -> './DatasetSide/Rear/Rear (102).jpg'\n",
            "'/content/drive/MyDrive/Dataset/DatasetSide/Rear/Rear (28).jpg' -> './DatasetSide/Rear/Rear (28).jpg'\n",
            "'/content/drive/MyDrive/Dataset/DatasetSide/Rear/Rear (85).jpg' -> './DatasetSide/Rear/Rear (85).jpg'\n",
            "'/content/drive/MyDrive/Dataset/DatasetSide/Rear/Rear (25).jpg' -> './DatasetSide/Rear/Rear (25).jpg'\n",
            "'/content/drive/MyDrive/Dataset/DatasetSide/Rear/Rear (45).JPEG' -> './DatasetSide/Rear/Rear (45).JPEG'\n",
            "'/content/drive/MyDrive/Dataset/DatasetSide/Rear/Rear (7).jpg' -> './DatasetSide/Rear/Rear (7).jpg'\n",
            "'/content/drive/MyDrive/Dataset/DatasetSide/Rear/Rear (128).jpg' -> './DatasetSide/Rear/Rear (128).jpg'\n",
            "'/content/drive/MyDrive/Dataset/DatasetSide/Rear/Rear (71).jpg' -> './DatasetSide/Rear/Rear (71).jpg'\n",
            "'/content/drive/MyDrive/Dataset/DatasetSide/Rear/Rear (127).jpg' -> './DatasetSide/Rear/Rear (127).jpg'\n",
            "'/content/drive/MyDrive/Dataset/DatasetSide/Rear/Rear (5).jpg' -> './DatasetSide/Rear/Rear (5).jpg'\n",
            "'/content/drive/MyDrive/Dataset/DatasetSide/Rear/Rear (43).jpeg' -> './DatasetSide/Rear/Rear (43).jpeg'\n",
            "'/content/drive/MyDrive/Dataset/DatasetSide/Rear/Rear (15).jpg' -> './DatasetSide/Rear/Rear (15).jpg'\n",
            "'/content/drive/MyDrive/Dataset/DatasetSide/Rear/Rear (119).jpg' -> './DatasetSide/Rear/Rear (119).jpg'\n",
            "'/content/drive/MyDrive/Dataset/DatasetSide/Rear/Rear (33).jpg' -> './DatasetSide/Rear/Rear (33).jpg'\n",
            "'/content/drive/MyDrive/Dataset/DatasetSide/Rear/Rear (110).jpg' -> './DatasetSide/Rear/Rear (110).jpg'\n",
            "'/content/drive/MyDrive/Dataset/DatasetSide/Rear/Rear (67).jpg' -> './DatasetSide/Rear/Rear (67).jpg'\n",
            "'/content/drive/MyDrive/Dataset/DatasetSide/Rear/Rear (77).jpg' -> './DatasetSide/Rear/Rear (77).jpg'\n",
            "'/content/drive/MyDrive/Dataset/DatasetSide/Rear/Rear (124).jpg' -> './DatasetSide/Rear/Rear (124).jpg'\n",
            "'/content/drive/MyDrive/Dataset/DatasetSide/Rear/Rear (4).jpg' -> './DatasetSide/Rear/Rear (4).jpg'\n",
            "'/content/drive/MyDrive/Dataset/DatasetSide/Rear/Rear (121).jpg' -> './DatasetSide/Rear/Rear (121).jpg'\n",
            "'/content/drive/MyDrive/Dataset/DatasetSide/Rear/Rear (83).jpg' -> './DatasetSide/Rear/Rear (83).jpg'\n",
            "'/content/drive/MyDrive/Dataset/DatasetSide/Rear/Rear (97).jpg' -> './DatasetSide/Rear/Rear (97).jpg'\n",
            "'/content/drive/MyDrive/Dataset/DatasetSide/Rear/Rear (35).jpg' -> './DatasetSide/Rear/Rear (35).jpg'\n",
            "'/content/drive/MyDrive/Dataset/DatasetSide/Rear/Rear (122).jpg' -> './DatasetSide/Rear/Rear (122).jpg'\n",
            "'/content/drive/MyDrive/Dataset/DatasetSide/Rear/Rear (75).jpg' -> './DatasetSide/Rear/Rear (75).jpg'\n",
            "'/content/drive/MyDrive/Dataset/DatasetSide/Rear/Rear (24).jpg' -> './DatasetSide/Rear/Rear (24).jpg'\n",
            "'/content/drive/MyDrive/Dataset/DatasetSide/Rear/Rear (2).JPEG' -> './DatasetSide/Rear/Rear (2).JPEG'\n",
            "'/content/drive/MyDrive/Dataset/DatasetSide/Rear/Rear (12).jpg' -> './DatasetSide/Rear/Rear (12).jpg'\n",
            "'/content/drive/MyDrive/Dataset/DatasetSide/Rear/Rear (30).jpg' -> './DatasetSide/Rear/Rear (30).jpg'\n",
            "'/content/drive/MyDrive/Dataset/DatasetSide/Rear/Rear (86).jpg' -> './DatasetSide/Rear/Rear (86).jpg'\n",
            "'/content/drive/MyDrive/Dataset/DatasetSide/Rear/Rear (123).jpg' -> './DatasetSide/Rear/Rear (123).jpg'\n",
            "'/content/drive/MyDrive/Dataset/DatasetSide/Rear/Rear (26).jpg' -> './DatasetSide/Rear/Rear (26).jpg'\n",
            "'/content/drive/MyDrive/Dataset/DatasetSide/Rear/Rear (87).jpg' -> './DatasetSide/Rear/Rear (87).jpg'\n",
            "'/content/drive/MyDrive/Dataset/DatasetSide/Rear/Rear (93).jpg' -> './DatasetSide/Rear/Rear (93).jpg'\n",
            "'/content/drive/MyDrive/Dataset/DatasetSide/Rear/rear (1120).jpg' -> './DatasetSide/Rear/rear (1120).jpg'\n",
            "'/content/drive/MyDrive/Dataset/DatasetSide/Rear/rear (1112).jpg' -> './DatasetSide/Rear/rear (1112).jpg'\n",
            "'/content/drive/MyDrive/Dataset/DatasetSide/Rear/rear (1113).jpg' -> './DatasetSide/Rear/rear (1113).jpg'\n",
            "'/content/drive/MyDrive/Dataset/DatasetSide/Rear/rear.jpg' -> './DatasetSide/Rear/rear.jpg'\n",
            "'/content/drive/MyDrive/Dataset/DatasetSide/Rear/rear (1119).jpg' -> './DatasetSide/Rear/rear (1119).jpg'\n",
            "'/content/drive/MyDrive/Dataset/DatasetSide/Rear/rear (1117).jpg' -> './DatasetSide/Rear/rear (1117).jpg'\n",
            "'/content/drive/MyDrive/Dataset/DatasetSide/Rear/rear (1115).jpg' -> './DatasetSide/Rear/rear (1115).jpg'\n",
            "'/content/drive/MyDrive/Dataset/DatasetSide/Rear/rear (1122).jpg' -> './DatasetSide/Rear/rear (1122).jpg'\n",
            "'/content/drive/MyDrive/Dataset/DatasetSide/Rear/rear (2).jpg' -> './DatasetSide/Rear/rear (2).jpg'\n",
            "'/content/drive/MyDrive/Dataset/DatasetSide/Rear/rear (111).jpg' -> './DatasetSide/Rear/rear (111).jpg'\n",
            "'/content/drive/MyDrive/Dataset/DatasetSide/Rear/rear (1121).jpg' -> './DatasetSide/Rear/rear (1121).jpg'\n",
            "'/content/drive/MyDrive/Dataset/DatasetSide/Rear/rear (1114).jpg' -> './DatasetSide/Rear/rear (1114).jpg'\n",
            "'/content/drive/MyDrive/Dataset/DatasetSide/Rear/rear (8).jpg' -> './DatasetSide/Rear/rear (8).jpg'\n",
            "'/content/drive/MyDrive/Dataset/DatasetSide/Rear/rear (1116).jpg' -> './DatasetSide/Rear/rear (1116).jpg'\n",
            "'/content/drive/MyDrive/Dataset/DatasetSide/Rear/rear2221 (11).jpg' -> './DatasetSide/Rear/rear2221 (11).jpg'\n",
            "'/content/drive/MyDrive/Dataset/DatasetSide/Rear/rear2221 (13).jpg' -> './DatasetSide/Rear/rear2221 (13).jpg'\n",
            "'/content/drive/MyDrive/Dataset/DatasetSide/Rear/rear2221 (12).jpg' -> './DatasetSide/Rear/rear2221 (12).jpg'\n",
            "'/content/drive/MyDrive/Dataset/DatasetSide/Rear/rear2221 (14).jpg' -> './DatasetSide/Rear/rear2221 (14).jpg'\n",
            "'/content/drive/MyDrive/Dataset/DatasetSide/Rear/rear2221 (2).jpg' -> './DatasetSide/Rear/rear2221 (2).jpg'\n",
            "'/content/drive/MyDrive/Dataset/DatasetSide/Rear/rear2221 (3).jpg' -> './DatasetSide/Rear/rear2221 (3).jpg'\n",
            "'/content/drive/MyDrive/Dataset/DatasetSide/Rear/rear2221 (1).jpg' -> './DatasetSide/Rear/rear2221 (1).jpg'\n",
            "'/content/drive/MyDrive/Dataset/DatasetSide/Rear/rear2221 (15).jpg' -> './DatasetSide/Rear/rear2221 (15).jpg'\n",
            "'/content/drive/MyDrive/Dataset/DatasetSide/Rear/rear2221 (5).jpg' -> './DatasetSide/Rear/rear2221 (5).jpg'\n",
            "'/content/drive/MyDrive/Dataset/DatasetSide/Rear/rear2221 (8).jpg' -> './DatasetSide/Rear/rear2221 (8).jpg'\n",
            "'/content/drive/MyDrive/Dataset/DatasetSide/Rear/rear2221 (6).jpg' -> './DatasetSide/Rear/rear2221 (6).jpg'\n",
            "'/content/drive/MyDrive/Dataset/DatasetSide/Rear/rear2221 (7).jpg' -> './DatasetSide/Rear/rear2221 (7).jpg'\n",
            "'/content/drive/MyDrive/Dataset/DatasetSide/Rear/rear2221 (4).jpg' -> './DatasetSide/Rear/rear2221 (4).jpg'\n",
            "'/content/drive/MyDrive/Dataset/DatasetSide/Rear/rear2221 (9).jpg' -> './DatasetSide/Rear/rear2221 (9).jpg'\n",
            "'/content/drive/MyDrive/Dataset/DatasetSide/Rear/rear2221 (10).jpg' -> './DatasetSide/Rear/rear2221 (10).jpg'\n",
            "'/content/drive/MyDrive/Dataset/DatasetSide/Side Car' -> './DatasetSide/Side Car'\n",
            "'/content/drive/MyDrive/Dataset/DatasetSide/Side Car/side (8).JPEG' -> './DatasetSide/Side Car/side (8).JPEG'\n",
            "'/content/drive/MyDrive/Dataset/DatasetSide/Side Car/side (2).JPEG' -> './DatasetSide/Side Car/side (2).JPEG'\n",
            "'/content/drive/MyDrive/Dataset/DatasetSide/Side Car/side (103).jpg' -> './DatasetSide/Side Car/side (103).jpg'\n",
            "'/content/drive/MyDrive/Dataset/DatasetSide/Side Car/side (18).jpg' -> './DatasetSide/Side Car/side (18).jpg'\n",
            "'/content/drive/MyDrive/Dataset/DatasetSide/Side Car/side (42).JPEG' -> './DatasetSide/Side Car/side (42).JPEG'\n",
            "'/content/drive/MyDrive/Dataset/DatasetSide/Side Car/side (48).jpg' -> './DatasetSide/Side Car/side (48).jpg'\n",
            "'/content/drive/MyDrive/Dataset/DatasetSide/Side Car/side (52).jpg' -> './DatasetSide/Side Car/side (52).jpg'\n",
            "'/content/drive/MyDrive/Dataset/DatasetSide/Side Car/side (122).jpg' -> './DatasetSide/Side Car/side (122).jpg'\n",
            "'/content/drive/MyDrive/Dataset/DatasetSide/Side Car/side (84).jpg' -> './DatasetSide/Side Car/side (84).jpg'\n",
            "'/content/drive/MyDrive/Dataset/DatasetSide/Side Car/side (48).JPEG' -> './DatasetSide/Side Car/side (48).JPEG'\n",
            "'/content/drive/MyDrive/Dataset/DatasetSide/Side Car/side (74).jpg' -> './DatasetSide/Side Car/side (74).jpg'\n",
            "'/content/drive/MyDrive/Dataset/DatasetSide/Side Car/side (3).JPEG' -> './DatasetSide/Side Car/side (3).JPEG'\n",
            "'/content/drive/MyDrive/Dataset/DatasetSide/Side Car/side (1).JPEG' -> './DatasetSide/Side Car/side (1).JPEG'\n",
            "'/content/drive/MyDrive/Dataset/DatasetSide/Side Car/side (33).JPEG' -> './DatasetSide/Side Car/side (33).JPEG'\n",
            "'/content/drive/MyDrive/Dataset/DatasetSide/Side Car/side (46).jpg' -> './DatasetSide/Side Car/side (46).jpg'\n",
            "'/content/drive/MyDrive/Dataset/DatasetSide/Side Car/side (34).JPEG' -> './DatasetSide/Side Car/side (34).JPEG'\n",
            "'/content/drive/MyDrive/Dataset/DatasetSide/Side Car/side (10).jpg' -> './DatasetSide/Side Car/side (10).jpg'\n",
            "'/content/drive/MyDrive/Dataset/DatasetSide/Side Car/side (42).jpg' -> './DatasetSide/Side Car/side (42).jpg'\n",
            "'/content/drive/MyDrive/Dataset/DatasetSide/Side Car/side (4).jpg' -> './DatasetSide/Side Car/side (4).jpg'\n",
            "'/content/drive/MyDrive/Dataset/DatasetSide/Side Car/side (20).JPEG' -> './DatasetSide/Side Car/side (20).JPEG'\n",
            "'/content/drive/MyDrive/Dataset/DatasetSide/Side Car/side (23).jpeg' -> './DatasetSide/Side Car/side (23).jpeg'\n",
            "'/content/drive/MyDrive/Dataset/DatasetSide/Side Car/side (17).JPEG' -> './DatasetSide/Side Car/side (17).JPEG'\n",
            "'/content/drive/MyDrive/Dataset/DatasetSide/Side Car/side (18).JPEG' -> './DatasetSide/Side Car/side (18).JPEG'\n",
            "'/content/drive/MyDrive/Dataset/DatasetSide/Side Car/side (22).jpeg' -> './DatasetSide/Side Car/side (22).jpeg'\n",
            "'/content/drive/MyDrive/Dataset/DatasetSide/Side Car/side (67).jpeg' -> './DatasetSide/Side Car/side (67).jpeg'\n",
            "'/content/drive/MyDrive/Dataset/DatasetSide/Side Car/side (53).jpeg' -> './DatasetSide/Side Car/side (53).jpeg'\n",
            "'/content/drive/MyDrive/Dataset/DatasetSide/Side Car/side (39).jpeg' -> './DatasetSide/Side Car/side (39).jpeg'\n",
            "'/content/drive/MyDrive/Dataset/DatasetSide/Side Car/side (27).JPEG' -> './DatasetSide/Side Car/side (27).JPEG'\n",
            "'/content/drive/MyDrive/Dataset/DatasetSide/Side Car/side (30).jpeg' -> './DatasetSide/Side Car/side (30).jpeg'\n",
            "'/content/drive/MyDrive/Dataset/DatasetSide/Side Car/side (16).JPEG' -> './DatasetSide/Side Car/side (16).JPEG'\n",
            "'/content/drive/MyDrive/Dataset/DatasetSide/Side Car/side (51).JPEG' -> './DatasetSide/Side Car/side (51).JPEG'\n",
            "'/content/drive/MyDrive/Dataset/DatasetSide/Side Car/side (36).JPEG' -> './DatasetSide/Side Car/side (36).JPEG'\n",
            "'/content/drive/MyDrive/Dataset/DatasetSide/Side Car/side (29).JPEG' -> './DatasetSide/Side Car/side (29).JPEG'\n",
            "'/content/drive/MyDrive/Dataset/DatasetSide/Side Car/side (28).jpeg' -> './DatasetSide/Side Car/side (28).jpeg'\n",
            "'/content/drive/MyDrive/Dataset/DatasetSide/Side Car/side (80).jpg' -> './DatasetSide/Side Car/side (80).jpg'\n",
            "'/content/drive/MyDrive/Dataset/DatasetSide/Side Car/side (9).JPEG' -> './DatasetSide/Side Car/side (9).JPEG'\n",
            "'/content/drive/MyDrive/Dataset/DatasetSide/Side Car/side (54).JPEG' -> './DatasetSide/Side Car/side (54).JPEG'\n",
            "'/content/drive/MyDrive/Dataset/DatasetSide/Side Car/side (13).JPEG' -> './DatasetSide/Side Car/side (13).JPEG'\n",
            "'/content/drive/MyDrive/Dataset/DatasetSide/Side Car/side (75).jpg' -> './DatasetSide/Side Car/side (75).jpg'\n",
            "'/content/drive/MyDrive/Dataset/DatasetSide/Side Car/side (77).jpg' -> './DatasetSide/Side Car/side (77).jpg'\n",
            "'/content/drive/MyDrive/Dataset/DatasetSide/Side Car/side (115).jpg' -> './DatasetSide/Side Car/side (115).jpg'\n",
            "'/content/drive/MyDrive/Dataset/DatasetSide/Side Car/side (5).JPEG' -> './DatasetSide/Side Car/side (5).JPEG'\n",
            "'/content/drive/MyDrive/Dataset/DatasetSide/Side Car/side (82).jpg' -> './DatasetSide/Side Car/side (82).jpg'\n",
            "'/content/drive/MyDrive/Dataset/DatasetSide/Side Car/side (19).jpeg' -> './DatasetSide/Side Car/side (19).jpeg'\n",
            "'/content/drive/MyDrive/Dataset/DatasetSide/Side Car/side (25).JPEG' -> './DatasetSide/Side Car/side (25).JPEG'\n",
            "'/content/drive/MyDrive/Dataset/DatasetSide/Side Car/side (61).JPEG' -> './DatasetSide/Side Car/side (61).JPEG'\n",
            "'/content/drive/MyDrive/Dataset/DatasetSide/Side Car/side (46).JPEG' -> './DatasetSide/Side Car/side (46).JPEG'\n",
            "'/content/drive/MyDrive/Dataset/DatasetSide/Side Car/side (133).jpg' -> './DatasetSide/Side Car/side (133).jpg'\n",
            "'/content/drive/MyDrive/Dataset/DatasetSide/Side Car/side (31).jpg' -> './DatasetSide/Side Car/side (31).jpg'\n",
            "'/content/drive/MyDrive/Dataset/DatasetSide/Side Car/side (67).jpg' -> './DatasetSide/Side Car/side (67).jpg'\n",
            "'/content/drive/MyDrive/Dataset/DatasetSide/Side Car/side (96).jpg' -> './DatasetSide/Side Car/side (96).jpg'\n",
            "'/content/drive/MyDrive/Dataset/DatasetSide/Side Car/side (30).jpg' -> './DatasetSide/Side Car/side (30).jpg'\n",
            "'/content/drive/MyDrive/Dataset/DatasetSide/Side Car/side (54).jpg' -> './DatasetSide/Side Car/side (54).jpg'\n",
            "'/content/drive/MyDrive/Dataset/DatasetSide/Side Car/side (104).jpg' -> './DatasetSide/Side Car/side (104).jpg'\n",
            "'/content/drive/MyDrive/Dataset/DatasetSide/Side Car/side (58).JPEG' -> './DatasetSide/Side Car/side (58).JPEG'\n",
            "'/content/drive/MyDrive/Dataset/DatasetSide/Side Car/side (11).jpg' -> './DatasetSide/Side Car/side (11).jpg'\n",
            "'/content/drive/MyDrive/Dataset/DatasetSide/Side Car/side (63).jpg' -> './DatasetSide/Side Car/side (63).jpg'\n",
            "'/content/drive/MyDrive/Dataset/DatasetSide/Side Car/side (44).JPEG' -> './DatasetSide/Side Car/side (44).JPEG'\n",
            "'/content/drive/MyDrive/Dataset/DatasetSide/Side Car/side (12).jpg' -> './DatasetSide/Side Car/side (12).jpg'\n",
            "'/content/drive/MyDrive/Dataset/DatasetSide/Side Car/side (66).jpg' -> './DatasetSide/Side Car/side (66).jpg'\n",
            "'/content/drive/MyDrive/Dataset/DatasetSide/Side Car/side (70).jpg' -> './DatasetSide/Side Car/side (70).jpg'\n",
            "'/content/drive/MyDrive/Dataset/DatasetSide/Side Car/side (63).JPEG' -> './DatasetSide/Side Car/side (63).JPEG'\n",
            "'/content/drive/MyDrive/Dataset/DatasetSide/Side Car/side (9).jpg' -> './DatasetSide/Side Car/side (9).jpg'\n",
            "'/content/drive/MyDrive/Dataset/DatasetSide/Side Car/side (12).JPEG' -> './DatasetSide/Side Car/side (12).JPEG'\n",
            "'/content/drive/MyDrive/Dataset/DatasetSide/Side Car/side (45).JPEG' -> './DatasetSide/Side Car/side (45).JPEG'\n",
            "'/content/drive/MyDrive/Dataset/DatasetSide/Side Car/side (7).JPEG' -> './DatasetSide/Side Car/side (7).JPEG'\n",
            "'/content/drive/MyDrive/Dataset/DatasetSide/Side Car/side (62).jpg' -> './DatasetSide/Side Car/side (62).jpg'\n",
            "'/content/drive/MyDrive/Dataset/DatasetSide/Side Car/side (26).jpeg' -> './DatasetSide/Side Car/side (26).jpeg'\n",
            "'/content/drive/MyDrive/Dataset/DatasetSide/Side Car/side (38).JPEG' -> './DatasetSide/Side Car/side (38).JPEG'\n",
            "'/content/drive/MyDrive/Dataset/DatasetSide/Side Car/side (61).jpg' -> './DatasetSide/Side Car/side (61).jpg'\n",
            "'/content/drive/MyDrive/Dataset/DatasetSide/Side Car/side (57).jpeg' -> './DatasetSide/Side Car/side (57).jpeg'\n",
            "'/content/drive/MyDrive/Dataset/DatasetSide/Side Car/side (58).jpg' -> './DatasetSide/Side Car/side (58).jpg'\n",
            "'/content/drive/MyDrive/Dataset/DatasetSide/Side Car/side (37).JPEG' -> './DatasetSide/Side Car/side (37).JPEG'\n",
            "'/content/drive/MyDrive/Dataset/DatasetSide/Side Car/side (24).JPEG' -> './DatasetSide/Side Car/side (24).JPEG'\n",
            "'/content/drive/MyDrive/Dataset/DatasetSide/Side Car/side (40).jpg' -> './DatasetSide/Side Car/side (40).jpg'\n",
            "'/content/drive/MyDrive/Dataset/DatasetSide/Side Car/side (131).jpg' -> './DatasetSide/Side Car/side (131).jpg'\n",
            "'/content/drive/MyDrive/Dataset/DatasetSide/Side Car/side (125).jpg' -> './DatasetSide/Side Car/side (125).jpg'\n",
            "'/content/drive/MyDrive/Dataset/DatasetSide/Side Car/side (27).jpg' -> './DatasetSide/Side Car/side (27).jpg'\n",
            "'/content/drive/MyDrive/Dataset/DatasetSide/Side Car/side (55).jpeg' -> './DatasetSide/Side Car/side (55).jpeg'\n",
            "'/content/drive/MyDrive/Dataset/DatasetSide/Side Car/side (56).JPEG' -> './DatasetSide/Side Car/side (56).JPEG'\n",
            "'/content/drive/MyDrive/Dataset/DatasetSide/Side Car/side (112).jpg' -> './DatasetSide/Side Car/side (112).jpg'\n",
            "'/content/drive/MyDrive/Dataset/DatasetSide/Side Car/side (6).JPEG' -> './DatasetSide/Side Car/side (6).JPEG'\n",
            "'/content/drive/MyDrive/Dataset/DatasetSide/Side Car/side (21).JPEG' -> './DatasetSide/Side Car/side (21).JPEG'\n",
            "'/content/drive/MyDrive/Dataset/DatasetSide/Side Car/side (14).JPEG' -> './DatasetSide/Side Car/side (14).JPEG'\n",
            "'/content/drive/MyDrive/Dataset/DatasetSide/Side Car/side (40).JPEG' -> './DatasetSide/Side Car/side (40).JPEG'\n",
            "'/content/drive/MyDrive/Dataset/DatasetSide/Side Car/side (52).JPEG' -> './DatasetSide/Side Car/side (52).JPEG'\n",
            "'/content/drive/MyDrive/Dataset/DatasetSide/Side Car/side (49).JPEG' -> './DatasetSide/Side Car/side (49).JPEG'\n",
            "'/content/drive/MyDrive/Dataset/DatasetSide/Side Car/side (13).jpg' -> './DatasetSide/Side Car/side (13).jpg'\n",
            "'/content/drive/MyDrive/Dataset/DatasetSide/Side Car/side (44).jpg' -> './DatasetSide/Side Car/side (44).jpg'\n",
            "'/content/drive/MyDrive/Dataset/DatasetSide/Side Car/side (39).jpg' -> './DatasetSide/Side Car/side (39).jpg'\n",
            "'/content/drive/MyDrive/Dataset/DatasetSide/Side Car/side (50).jpeg' -> './DatasetSide/Side Car/side (50).jpeg'\n",
            "'/content/drive/MyDrive/Dataset/DatasetSide/Side Car/side (102).jpg' -> './DatasetSide/Side Car/side (102).jpg'\n",
            "'/content/drive/MyDrive/Dataset/DatasetSide/Side Car/side (31).JPEG' -> './DatasetSide/Side Car/side (31).JPEG'\n",
            "'/content/drive/MyDrive/Dataset/DatasetSide/Side Car/side (59).JPEG' -> './DatasetSide/Side Car/side (59).JPEG'\n",
            "'/content/drive/MyDrive/Dataset/DatasetSide/Side Car/side (11).JPEG' -> './DatasetSide/Side Car/side (11).JPEG'\n",
            "'/content/drive/MyDrive/Dataset/DatasetSide/Side Car/side (93).jpg' -> './DatasetSide/Side Car/side (93).jpg'\n",
            "'/content/drive/MyDrive/Dataset/DatasetSide/Side Car/side (10).JPEG' -> './DatasetSide/Side Car/side (10).JPEG'\n",
            "'/content/drive/MyDrive/Dataset/DatasetSide/Side Car/side (81).jpg' -> './DatasetSide/Side Car/side (81).jpg'\n",
            "'/content/drive/MyDrive/Dataset/DatasetSide/Side Car/side (47).JPEG' -> './DatasetSide/Side Car/side (47).JPEG'\n",
            "'/content/drive/MyDrive/Dataset/DatasetSide/Side Car/side (87).jpg' -> './DatasetSide/Side Car/side (87).jpg'\n",
            "'/content/drive/MyDrive/Dataset/DatasetSide/Side Car/side (41).JPEG' -> './DatasetSide/Side Car/side (41).JPEG'\n",
            "'/content/drive/MyDrive/Dataset/DatasetSide/Side Car/side (43).JPEG' -> './DatasetSide/Side Car/side (43).JPEG'\n",
            "'/content/drive/MyDrive/Dataset/DatasetSide/Side Car/side (110).jpg' -> './DatasetSide/Side Car/side (110).jpg'\n",
            "'/content/drive/MyDrive/Dataset/DatasetSide/Side Car/side (15).jpeg' -> './DatasetSide/Side Car/side (15).jpeg'\n",
            "'/content/drive/MyDrive/Dataset/DatasetSide/Side Car/side (92).jpg' -> './DatasetSide/Side Car/side (92).jpg'\n",
            "'/content/drive/MyDrive/Dataset/DatasetSide/Side Car/side (41).jpg' -> './DatasetSide/Side Car/side (41).jpg'\n",
            "'/content/drive/MyDrive/Dataset/DatasetSide/Side Car/side (23).jpg' -> './DatasetSide/Side Car/side (23).jpg'\n",
            "'/content/drive/MyDrive/Dataset/DatasetSide/Side Car/side (53).jpg' -> './DatasetSide/Side Car/side (53).jpg'\n",
            "'/content/drive/MyDrive/Dataset/DatasetSide/Side Car/side (123).jpg' -> './DatasetSide/Side Car/side (123).jpg'\n",
            "'/content/drive/MyDrive/Dataset/DatasetSide/Side Car/side (134).jpg' -> './DatasetSide/Side Car/side (134).jpg'\n",
            "'/content/drive/MyDrive/Dataset/DatasetSide/Side Car/side (111).jpg' -> './DatasetSide/Side Car/side (111).jpg'\n",
            "'/content/drive/MyDrive/Dataset/DatasetSide/Side Car/side (43).jpg' -> './DatasetSide/Side Car/side (43).jpg'\n",
            "'/content/drive/MyDrive/Dataset/DatasetSide/Side Car/side (26).jpg' -> './DatasetSide/Side Car/side (26).jpg'\n",
            "'/content/drive/MyDrive/Dataset/DatasetSide/Side Car/side (69).jpeg' -> './DatasetSide/Side Car/side (69).jpeg'\n",
            "'/content/drive/MyDrive/Dataset/DatasetSide/Side Car/side (4).JPEG' -> './DatasetSide/Side Car/side (4).JPEG'\n",
            "'/content/drive/MyDrive/Dataset/DatasetSide/Side Car/side (32).JPEG' -> './DatasetSide/Side Car/side (32).JPEG'\n",
            "'/content/drive/MyDrive/Dataset/DatasetSide/Side Car/side (114).jpg' -> './DatasetSide/Side Car/side (114).jpg'\n",
            "'/content/drive/MyDrive/Dataset/DatasetSide/Side Car/side (88).jpg' -> './DatasetSide/Side Car/side (88).jpg'\n",
            "'/content/drive/MyDrive/Dataset/DatasetSide/Side Car/side (32).jpg' -> './DatasetSide/Side Car/side (32).jpg'\n",
            "'/content/drive/MyDrive/Dataset/DatasetSide/Side Car/side (59).jpg' -> './DatasetSide/Side Car/side (59).jpg'\n",
            "'/content/drive/MyDrive/Dataset/DatasetSide/Side Car/side (60).JPEG' -> './DatasetSide/Side Car/side (60).JPEG'\n",
            "'/content/drive/MyDrive/Dataset/DatasetSide/Side Car/side (33).jpg' -> './DatasetSide/Side Car/side (33).jpg'\n",
            "'/content/drive/MyDrive/Dataset/DatasetSide/Side Car/side (35).JPEG' -> './DatasetSide/Side Car/side (35).JPEG'\n",
            "'/content/drive/MyDrive/Dataset/DatasetSide/Side Car/side (78).jpg' -> './DatasetSide/Side Car/side (78).jpg'\n",
            "'/content/drive/MyDrive/Dataset/DatasetSide/Side Car/side (101).jpg' -> './DatasetSide/Side Car/side (101).jpg'\n",
            "'/content/drive/MyDrive/Dataset/DatasetSide/Side Car/side (109).jpg' -> './DatasetSide/Side Car/side (109).jpg'\n",
            "'/content/drive/MyDrive/Dataset/DatasetSide/Side Car/side (68).jpeg' -> './DatasetSide/Side Car/side (68).jpeg'\n",
            "'/content/drive/MyDrive/Dataset/DatasetSide/Side Car/side (20).jpg' -> './DatasetSide/Side Car/side (20).jpg'\n",
            "'/content/drive/MyDrive/Dataset/DatasetSide/Side Car/side (60).jpg' -> './DatasetSide/Side Car/side (60).jpg'\n",
            "'/content/drive/MyDrive/Dataset/DatasetSide/Side Car/side (79).jpg' -> './DatasetSide/Side Car/side (79).jpg'\n",
            "'/content/drive/MyDrive/Dataset/DatasetSide/Side Car/side (106).jpg' -> './DatasetSide/Side Car/side (106).jpg'\n",
            "'/content/drive/MyDrive/Dataset/DatasetSide/Side Car/side (19).jpg' -> './DatasetSide/Side Car/side (19).jpg'\n",
            "'/content/drive/MyDrive/Dataset/DatasetSide/Side Car/side (121).jpg' -> './DatasetSide/Side Car/side (121).jpg'\n",
            "'/content/drive/MyDrive/Dataset/DatasetSide/Side Car/side (73).jpg' -> './DatasetSide/Side Car/side (73).jpg'\n",
            "'/content/drive/MyDrive/Dataset/DatasetSide/Side Car/side (105).jpg' -> './DatasetSide/Side Car/side (105).jpg'\n",
            "'/content/drive/MyDrive/Dataset/DatasetSide/Side Car/side (113).jpg' -> './DatasetSide/Side Car/side (113).jpg'\n",
            "'/content/drive/MyDrive/Dataset/DatasetSide/Side Car/side (29).jpg' -> './DatasetSide/Side Car/side (29).jpg'\n",
            "'/content/drive/MyDrive/Dataset/DatasetSide/Side Car/side (14).jpg' -> './DatasetSide/Side Car/side (14).jpg'\n",
            "'/content/drive/MyDrive/Dataset/DatasetSide/Side Car/side (21).jpg' -> './DatasetSide/Side Car/side (21).jpg'\n",
            "'/content/drive/MyDrive/Dataset/DatasetSide/Side Car/side (64).jpeg' -> './DatasetSide/Side Car/side (64).jpeg'\n",
            "'/content/drive/MyDrive/Dataset/DatasetSide/Side Car/side (118).jpg' -> './DatasetSide/Side Car/side (118).jpg'\n",
            "'/content/drive/MyDrive/Dataset/DatasetSide/Side Car/side (129).jpg' -> './DatasetSide/Side Car/side (129).jpg'\n",
            "'/content/drive/MyDrive/Dataset/DatasetSide/Side Car/side (72).jpg' -> './DatasetSide/Side Car/side (72).jpg'\n",
            "'/content/drive/MyDrive/Dataset/DatasetSide/Side Car/side (65).jpg' -> './DatasetSide/Side Car/side (65).jpg'\n",
            "'/content/drive/MyDrive/Dataset/DatasetSide/Side Car/side (8).jpg' -> './DatasetSide/Side Car/side (8).jpg'\n",
            "'/content/drive/MyDrive/Dataset/DatasetSide/Side Car/side (108).jpg' -> './DatasetSide/Side Car/side (108).jpg'\n",
            "'/content/drive/MyDrive/Dataset/DatasetSide/Side Car/side (107).jpg' -> './DatasetSide/Side Car/side (107).jpg'\n",
            "'/content/drive/MyDrive/Dataset/DatasetSide/Side Car/side (119).jpg' -> './DatasetSide/Side Car/side (119).jpg'\n",
            "'/content/drive/MyDrive/Dataset/DatasetSide/Side Car/side (56).jpg' -> './DatasetSide/Side Car/side (56).jpg'\n",
            "'/content/drive/MyDrive/Dataset/DatasetSide/Side Car/side (35).jpg' -> './DatasetSide/Side Car/side (35).jpg'\n",
            "'/content/drive/MyDrive/Dataset/DatasetSide/Side Car/side (62).JPEG' -> './DatasetSide/Side Car/side (62).JPEG'\n",
            "'/content/drive/MyDrive/Dataset/DatasetSide/Side Car/side (47).jpg' -> './DatasetSide/Side Car/side (47).jpg'\n",
            "'/content/drive/MyDrive/Dataset/DatasetSide/Side Car/side (17).jpg' -> './DatasetSide/Side Car/side (17).jpg'\n",
            "'/content/drive/MyDrive/Dataset/DatasetSide/Side Car/side (71).jpeg' -> './DatasetSide/Side Car/side (71).jpeg'\n",
            "'/content/drive/MyDrive/Dataset/DatasetSide/Side Car/side (34).jpg' -> './DatasetSide/Side Car/side (34).jpg'\n",
            "'/content/drive/MyDrive/Dataset/DatasetSide/Side Car/side (22).jpg' -> './DatasetSide/Side Car/side (22).jpg'\n",
            "'/content/drive/MyDrive/Dataset/DatasetSide/Side Car/side (128).jpg' -> './DatasetSide/Side Car/side (128).jpg'\n",
            "'/content/drive/MyDrive/Dataset/DatasetSide/Side Car/side (25).jpg' -> './DatasetSide/Side Car/side (25).jpg'\n",
            "'/content/drive/MyDrive/Dataset/DatasetSide/Side Car/side (135).jpg' -> './DatasetSide/Side Car/side (135).jpg'\n",
            "'/content/drive/MyDrive/Dataset/DatasetSide/Side Car/side (36).jpg' -> './DatasetSide/Side Car/side (36).jpg'\n",
            "'/content/drive/MyDrive/Dataset/DatasetSide/Side Car/side (70).jpeg' -> './DatasetSide/Side Car/side (70).jpeg'\n",
            "'/content/drive/MyDrive/Dataset/DatasetSide/Side Car/side (71).jpg' -> './DatasetSide/Side Car/side (71).jpg'\n",
            "'/content/drive/MyDrive/Dataset/DatasetSide/Side Car/side (68).jpg' -> './DatasetSide/Side Car/side (68).jpg'\n",
            "'/content/drive/MyDrive/Dataset/DatasetSide/Side Car/side (7).jpg' -> './DatasetSide/Side Car/side (7).jpg'\n",
            "'/content/drive/MyDrive/Dataset/DatasetSide/Side Car/side (51).jpg' -> './DatasetSide/Side Car/side (51).jpg'\n",
            "'/content/drive/MyDrive/Dataset/DatasetSide/Side Car/side (124).jpg' -> './DatasetSide/Side Car/side (124).jpg'\n",
            "'/content/drive/MyDrive/Dataset/DatasetSide/Side Car/side (137).jpg' -> './DatasetSide/Side Car/side (137).jpg'\n",
            "'/content/drive/MyDrive/Dataset/DatasetSide/Side Car/side (98).jpg' -> './DatasetSide/Side Car/side (98).jpg'\n",
            "'/content/drive/MyDrive/Dataset/DatasetSide/Side Car/side (16).jpg' -> './DatasetSide/Side Car/side (16).jpg'\n",
            "'/content/drive/MyDrive/Dataset/DatasetSide/Side Car/side (126).jpg' -> './DatasetSide/Side Car/side (126).jpg'\n",
            "'/content/drive/MyDrive/Dataset/DatasetSide/Side Car/side (24).jpg' -> './DatasetSide/Side Car/side (24).jpg'\n",
            "'/content/drive/MyDrive/Dataset/DatasetSide/Side Car/side (55).jpg' -> './DatasetSide/Side Car/side (55).jpg'\n",
            "'/content/drive/MyDrive/Dataset/DatasetSide/Side Car/side (116).jpg' -> './DatasetSide/Side Car/side (116).jpg'\n",
            "'/content/drive/MyDrive/Dataset/DatasetSide/Side Car/side (89).jpg' -> './DatasetSide/Side Car/side (89).jpg'\n",
            "'/content/drive/MyDrive/Dataset/DatasetSide/Side Car/side (83).jpg' -> './DatasetSide/Side Car/side (83).jpg'\n",
            "'/content/drive/MyDrive/Dataset/DatasetSide/Side Car/side (117).jpg' -> './DatasetSide/Side Car/side (117).jpg'\n",
            "'/content/drive/MyDrive/Dataset/DatasetSide/Side Car/side (100).jpg' -> './DatasetSide/Side Car/side (100).jpg'\n",
            "'/content/drive/MyDrive/Dataset/DatasetSide/Side Car/side (45).jpg' -> './DatasetSide/Side Car/side (45).jpg'\n",
            "'/content/drive/MyDrive/Dataset/DatasetSide/Side Car/side (85).jpg' -> './DatasetSide/Side Car/side (85).jpg'\n",
            "'/content/drive/MyDrive/Dataset/DatasetSide/Side Car/side (28).jpg' -> './DatasetSide/Side Car/side (28).jpg'\n",
            "'/content/drive/MyDrive/Dataset/DatasetSide/Side Car/side (69).jpg' -> './DatasetSide/Side Car/side (69).jpg'\n",
            "'/content/drive/MyDrive/Dataset/DatasetSide/Side Car/side (127).jpg' -> './DatasetSide/Side Car/side (127).jpg'\n",
            "'/content/drive/MyDrive/Dataset/DatasetSide/Side Car/side (38).jpg' -> './DatasetSide/Side Car/side (38).jpg'\n",
            "'/content/drive/MyDrive/Dataset/DatasetSide/Side Car/side (97).jpg' -> './DatasetSide/Side Car/side (97).jpg'\n",
            "'/content/drive/MyDrive/Dataset/DatasetSide/Side Car/side (64).jpg' -> './DatasetSide/Side Car/side (64).jpg'\n",
            "'/content/drive/MyDrive/Dataset/DatasetSide/Side Car/side (136).jpg' -> './DatasetSide/Side Car/side (136).jpg'\n",
            "'/content/drive/MyDrive/Dataset/DatasetSide/Side Car/side (6).jpg' -> './DatasetSide/Side Car/side (6).jpg'\n",
            "'/content/drive/MyDrive/Dataset/DatasetSide/Side Car/side (94).jpg' -> './DatasetSide/Side Car/side (94).jpg'\n",
            "'/content/drive/MyDrive/Dataset/DatasetSide/Side Car/side (65).jpeg' -> './DatasetSide/Side Car/side (65).jpeg'\n",
            "'/content/drive/MyDrive/Dataset/DatasetSide/Side Car/side (130).jpg' -> './DatasetSide/Side Car/side (130).jpg'\n",
            "'/content/drive/MyDrive/Dataset/DatasetSide/Side Car/side (90).jpg' -> './DatasetSide/Side Car/side (90).jpg'\n",
            "'/content/drive/MyDrive/Dataset/DatasetSide/Side Car/side (37).jpg' -> './DatasetSide/Side Car/side (37).jpg'\n",
            "'/content/drive/MyDrive/Dataset/DatasetSide/Side Car/side (91).jpg' -> './DatasetSide/Side Car/side (91).jpg'\n",
            "'/content/drive/MyDrive/Dataset/DatasetSide/Side Car/side (3).jpg' -> './DatasetSide/Side Car/side (3).jpg'\n",
            "'/content/drive/MyDrive/Dataset/DatasetSide/Side Car/side (49).jpg' -> './DatasetSide/Side Car/side (49).jpg'\n",
            "'/content/drive/MyDrive/Dataset/DatasetSide/Side Car/side (132).jpg' -> './DatasetSide/Side Car/side (132).jpg'\n",
            "'/content/drive/MyDrive/Dataset/DatasetSide/Side Car/side (86).jpg' -> './DatasetSide/Side Car/side (86).jpg'\n",
            "'/content/drive/MyDrive/Dataset/DatasetSide/Side Car/side (120).jpg' -> './DatasetSide/Side Car/side (120).jpg'\n",
            "'/content/drive/MyDrive/Dataset/DatasetSide/Side Car/side (57).jpg' -> './DatasetSide/Side Car/side (57).jpg'\n",
            "'/content/drive/MyDrive/Dataset/DatasetSide/Side Car/side (50).jpg' -> './DatasetSide/Side Car/side (50).jpg'\n",
            "'/content/drive/MyDrive/Dataset/DatasetSide/Side Car/side (15).jpg' -> './DatasetSide/Side Car/side (15).jpg'\n",
            "'/content/drive/MyDrive/Dataset/DatasetSide/Side Car/side (99).jpg' -> './DatasetSide/Side Car/side (99).jpg'\n",
            "'/content/drive/MyDrive/Dataset/DatasetSide/Side Car/side (95).jpg' -> './DatasetSide/Side Car/side (95).jpg'\n",
            "'/content/drive/MyDrive/Dataset/DatasetSide/Side Car/side (76).jpg' -> './DatasetSide/Side Car/side (76).jpg'\n",
            "'/content/drive/MyDrive/Dataset/DatasetSide/Side Car/side (66).jpeg' -> './DatasetSide/Side Car/side (66).jpeg'\n",
            "'/content/drive/MyDrive/Dataset/DatasetSide/Side Car/side (5).jpg' -> './DatasetSide/Side Car/side (5).jpg'\n",
            "'/content/drive/MyDrive/Dataset/DatasetSide/Side Car/side (139).jpg' -> './DatasetSide/Side Car/side (139).jpg'\n",
            "'/content/drive/MyDrive/Dataset/DatasetSide/Side Car/side (138).jpg' -> './DatasetSide/Side Car/side (138).jpg'\n",
            "'/content/drive/MyDrive/Dataset/DatasetSide/Side Car/side (140).jpg' -> './DatasetSide/Side Car/side (140).jpg'\n",
            "'/content/drive/MyDrive/Dataset/DatasetSide/Side Car/side (141).jpg' -> './DatasetSide/Side Car/side (141).jpg'\n",
            "'/content/drive/MyDrive/Dataset/DatasetSide/Side Car/side (142).jpg' -> './DatasetSide/Side Car/side (142).jpg'\n",
            "'/content/drive/MyDrive/Dataset/DatasetSide/Side Car/side (143).jpg' -> './DatasetSide/Side Car/side (143).jpg'\n",
            "'/content/drive/MyDrive/Dataset/DatasetSide/Side Car/side (144).jpg' -> './DatasetSide/Side Car/side (144).jpg'\n",
            "'/content/drive/MyDrive/Dataset/DatasetSide/Side Car/side (145).jpg' -> './DatasetSide/Side Car/side (145).jpg'\n",
            "'/content/drive/MyDrive/Dataset/DatasetSide/Side Car/side (1).jpg' -> './DatasetSide/Side Car/side (1).jpg'\n",
            "'/content/drive/MyDrive/Dataset/DatasetSide/Side Car/side (2).jpg' -> './DatasetSide/Side Car/side (2).jpg'\n",
            "'/content/drive/MyDrive/Dataset/DatasetSide/Front' -> './DatasetSide/Front'\n",
            "'/content/drive/MyDrive/Dataset/DatasetSide/Front/Front (43).jpg' -> './DatasetSide/Front/Front (43).jpg'\n",
            "'/content/drive/MyDrive/Dataset/DatasetSide/Front/Front (3).JPEG' -> './DatasetSide/Front/Front (3).JPEG'\n",
            "'/content/drive/MyDrive/Dataset/DatasetSide/Front/Front (39).jpg' -> './DatasetSide/Front/Front (39).jpg'\n",
            "'/content/drive/MyDrive/Dataset/DatasetSide/Front/Front (2).jpeg' -> './DatasetSide/Front/Front (2).jpeg'\n",
            "'/content/drive/MyDrive/Dataset/DatasetSide/Front/Front (4).jpeg' -> './DatasetSide/Front/Front (4).jpeg'\n",
            "'/content/drive/MyDrive/Dataset/DatasetSide/Front/Front (47).jpg' -> './DatasetSide/Front/Front (47).jpg'\n",
            "'/content/drive/MyDrive/Dataset/DatasetSide/Front/Front (2).jpg' -> './DatasetSide/Front/Front (2).jpg'\n",
            "'/content/drive/MyDrive/Dataset/DatasetSide/Front/Front (40).jpg' -> './DatasetSide/Front/Front (40).jpg'\n",
            "'/content/drive/MyDrive/Dataset/DatasetSide/Front/Front (5).JPEG' -> './DatasetSide/Front/Front (5).JPEG'\n",
            "'/content/drive/MyDrive/Dataset/DatasetSide/Front/Front (48).jpg' -> './DatasetSide/Front/Front (48).jpg'\n",
            "'/content/drive/MyDrive/Dataset/DatasetSide/Front/Front (34).jpg' -> './DatasetSide/Front/Front (34).jpg'\n",
            "'/content/drive/MyDrive/Dataset/DatasetSide/Front/Front (7).jpg' -> './DatasetSide/Front/Front (7).jpg'\n",
            "'/content/drive/MyDrive/Dataset/DatasetSide/Front/Front (1).JPEG' -> './DatasetSide/Front/Front (1).JPEG'\n",
            "'/content/drive/MyDrive/Dataset/DatasetSide/Front/Front (31).jpg' -> './DatasetSide/Front/Front (31).jpg'\n",
            "'/content/drive/MyDrive/Dataset/DatasetSide/Front/Front (49).jpg' -> './DatasetSide/Front/Front (49).jpg'\n",
            "'/content/drive/MyDrive/Dataset/DatasetSide/Front/Front (1).jpg' -> './DatasetSide/Front/Front (1).jpg'\n",
            "'/content/drive/MyDrive/Dataset/DatasetSide/Front/Front (26).jpg' -> './DatasetSide/Front/Front (26).jpg'\n",
            "'/content/drive/MyDrive/Dataset/DatasetSide/Front/Front (32).jpg' -> './DatasetSide/Front/Front (32).jpg'\n",
            "'/content/drive/MyDrive/Dataset/DatasetSide/Front/Front (46).jpg' -> './DatasetSide/Front/Front (46).jpg'\n",
            "'/content/drive/MyDrive/Dataset/DatasetSide/Front/Front (4).jpg' -> './DatasetSide/Front/Front (4).jpg'\n",
            "'/content/drive/MyDrive/Dataset/DatasetSide/Front/Front (52).jpg' -> './DatasetSide/Front/Front (52).jpg'\n",
            "'/content/drive/MyDrive/Dataset/DatasetSide/Front/Front (3).jpg' -> './DatasetSide/Front/Front (3).jpg'\n",
            "'/content/drive/MyDrive/Dataset/DatasetSide/Front/Front (17).jpg' -> './DatasetSide/Front/Front (17).jpg'\n",
            "'/content/drive/MyDrive/Dataset/DatasetSide/Front/Front (35).jpg' -> './DatasetSide/Front/Front (35).jpg'\n",
            "'/content/drive/MyDrive/Dataset/DatasetSide/Front/Front (57).jpg' -> './DatasetSide/Front/Front (57).jpg'\n",
            "'/content/drive/MyDrive/Dataset/DatasetSide/Front/Front (53).jpg' -> './DatasetSide/Front/Front (53).jpg'\n",
            "'/content/drive/MyDrive/Dataset/DatasetSide/Front/Front (42).jpg' -> './DatasetSide/Front/Front (42).jpg'\n",
            "'/content/drive/MyDrive/Dataset/DatasetSide/Front/Front (56).jpg' -> './DatasetSide/Front/Front (56).jpg'\n",
            "'/content/drive/MyDrive/Dataset/DatasetSide/Front/Front (45).jpg' -> './DatasetSide/Front/Front (45).jpg'\n",
            "'/content/drive/MyDrive/Dataset/DatasetSide/Front/Front (50).jpg' -> './DatasetSide/Front/Front (50).jpg'\n",
            "'/content/drive/MyDrive/Dataset/DatasetSide/Front/Front (44).jpg' -> './DatasetSide/Front/Front (44).jpg'\n",
            "'/content/drive/MyDrive/Dataset/DatasetSide/Front/Front (41).jpg' -> './DatasetSide/Front/Front (41).jpg'\n",
            "'/content/drive/MyDrive/Dataset/DatasetSide/Front/Front (1).png' -> './DatasetSide/Front/Front (1).png'\n",
            "'/content/drive/MyDrive/Dataset/DatasetSide/Front/Front (58).jpg' -> './DatasetSide/Front/Front (58).jpg'\n",
            "'/content/drive/MyDrive/Dataset/DatasetSide/Front/Front (9).jpg' -> './DatasetSide/Front/Front (9).jpg'\n",
            "'/content/drive/MyDrive/Dataset/DatasetSide/Front/Front (25).jpg' -> './DatasetSide/Front/Front (25).jpg'\n",
            "'/content/drive/MyDrive/Dataset/DatasetSide/Front/Front (19).JPG' -> './DatasetSide/Front/Front (19).JPG'\n",
            "'/content/drive/MyDrive/Dataset/DatasetSide/Front/Front (38).jpg' -> './DatasetSide/Front/Front (38).jpg'\n",
            "'/content/drive/MyDrive/Dataset/DatasetSide/Front/Front (15).jpg' -> './DatasetSide/Front/Front (15).jpg'\n",
            "'/content/drive/MyDrive/Dataset/DatasetSide/Front/Front (33).jpg' -> './DatasetSide/Front/Front (33).jpg'\n",
            "'/content/drive/MyDrive/Dataset/DatasetSide/Front/Front (5).jpg' -> './DatasetSide/Front/Front (5).jpg'\n",
            "'/content/drive/MyDrive/Dataset/DatasetSide/Front/Front (8).jpg' -> './DatasetSide/Front/Front (8).jpg'\n",
            "'/content/drive/MyDrive/Dataset/DatasetSide/Front/Front (12).jpg' -> './DatasetSide/Front/Front (12).jpg'\n",
            "'/content/drive/MyDrive/Dataset/DatasetSide/Front/Front (18).jpg' -> './DatasetSide/Front/Front (18).jpg'\n",
            "'/content/drive/MyDrive/Dataset/DatasetSide/Front/Front (23).jpg' -> './DatasetSide/Front/Front (23).jpg'\n",
            "'/content/drive/MyDrive/Dataset/DatasetSide/Front/Front (21).jpg' -> './DatasetSide/Front/Front (21).jpg'\n",
            "'/content/drive/MyDrive/Dataset/DatasetSide/Front/Front (24).jpg' -> './DatasetSide/Front/Front (24).jpg'\n",
            "'/content/drive/MyDrive/Dataset/DatasetSide/Front/Front (20).JPG' -> './DatasetSide/Front/Front (20).JPG'\n",
            "'/content/drive/MyDrive/Dataset/DatasetSide/Front/Front (61).jpg' -> './DatasetSide/Front/Front (61).jpg'\n",
            "'/content/drive/MyDrive/Dataset/DatasetSide/Front/Front (28).JPG' -> './DatasetSide/Front/Front (28).JPG'\n",
            "'/content/drive/MyDrive/Dataset/DatasetSide/Front/Front (13).jpg' -> './DatasetSide/Front/Front (13).jpg'\n",
            "'/content/drive/MyDrive/Dataset/DatasetSide/Front/Front (6).jpg' -> './DatasetSide/Front/Front (6).jpg'\n",
            "'/content/drive/MyDrive/Dataset/DatasetSide/Front/Front (37).jpg' -> './DatasetSide/Front/Front (37).jpg'\n",
            "'/content/drive/MyDrive/Dataset/DatasetSide/Front/Front (11).jpg' -> './DatasetSide/Front/Front (11).jpg'\n",
            "'/content/drive/MyDrive/Dataset/DatasetSide/Front/Front (36).jpg' -> './DatasetSide/Front/Front (36).jpg'\n",
            "'/content/drive/MyDrive/Dataset/DatasetSide/Front/Front (14).jpg' -> './DatasetSide/Front/Front (14).jpg'\n",
            "'/content/drive/MyDrive/Dataset/DatasetSide/Front/front1111 (16).jpg' -> './DatasetSide/Front/front1111 (16).jpg'\n",
            "'/content/drive/MyDrive/Dataset/DatasetSide/Front/front1111 (15).jpg' -> './DatasetSide/Front/front1111 (15).jpg'\n",
            "'/content/drive/MyDrive/Dataset/DatasetSide/Front/front1111 (17).jpg' -> './DatasetSide/Front/front1111 (17).jpg'\n",
            "'/content/drive/MyDrive/Dataset/DatasetSide/Front/front1111 (6).jpg' -> './DatasetSide/Front/front1111 (6).jpg'\n",
            "'/content/drive/MyDrive/Dataset/DatasetSide/Front/front1111 (4).jpg' -> './DatasetSide/Front/front1111 (4).jpg'\n",
            "'/content/drive/MyDrive/Dataset/DatasetSide/Front/front1111 (5).jpg' -> './DatasetSide/Front/front1111 (5).jpg'\n",
            "'/content/drive/MyDrive/Dataset/DatasetSide/Front/front1111 (11).jpg' -> './DatasetSide/Front/front1111 (11).jpg'\n",
            "'/content/drive/MyDrive/Dataset/DatasetSide/Front/front1111 (2).jpg' -> './DatasetSide/Front/front1111 (2).jpg'\n",
            "'/content/drive/MyDrive/Dataset/DatasetSide/Front/front1111 (1).jpg' -> './DatasetSide/Front/front1111 (1).jpg'\n",
            "'/content/drive/MyDrive/Dataset/DatasetSide/Front/front1111 (3).jpg' -> './DatasetSide/Front/front1111 (3).jpg'\n",
            "'/content/drive/MyDrive/Dataset/DatasetSide/Front/front1111 (8).jpg' -> './DatasetSide/Front/front1111 (8).jpg'\n",
            "'/content/drive/MyDrive/Dataset/DatasetSide/Front/front1111 (9).jpg' -> './DatasetSide/Front/front1111 (9).jpg'\n",
            "'/content/drive/MyDrive/Dataset/DatasetSide/Front/front1111 (12).jpg' -> './DatasetSide/Front/front1111 (12).jpg'\n",
            "'/content/drive/MyDrive/Dataset/DatasetSide/Front/front1111 (13).jpg' -> './DatasetSide/Front/front1111 (13).jpg'\n",
            "'/content/drive/MyDrive/Dataset/DatasetSide/Front/front1111 (7).jpg' -> './DatasetSide/Front/front1111 (7).jpg'\n",
            "'/content/drive/MyDrive/Dataset/DatasetSide/Front/front1111 (10).jpg' -> './DatasetSide/Front/front1111 (10).jpg'\n",
            "'/content/drive/MyDrive/Dataset/DatasetSide/Front/front1111 (14).jpg' -> './DatasetSide/Front/front1111 (14).jpg'\n",
            "cp: '.' and './.' are the same file\n"
          ]
        }
      ]
    },
    {
      "cell_type": "code",
      "metadata": {
        "id": "FeRV5CjnJvN9"
      },
      "source": [
        "!unzip  \"Dataset.zip\""
      ],
      "execution_count": null,
      "outputs": []
    },
    {
      "cell_type": "markdown",
      "metadata": {
        "id": "uA6TES-NPHB3"
      },
      "source": [
        "# **Step 2: Importing Important Libraries**"
      ]
    },
    {
      "cell_type": "code",
      "metadata": {
        "id": "JwyPMwtZ6Z05"
      },
      "source": [
        "#Import lib\n",
        "from keras.preprocessing.image import ImageDataGenerator\n",
        "from tensorflow.keras.optimizers import Adam\n",
        "from keras.preprocessing.image import img_to_array\n",
        "from sklearn.preprocessing import MultiLabelBinarizer\n",
        "from sklearn.model_selection import train_test_split\n",
        "from keras.models import Sequential\n",
        "from tensorflow.keras.layers import BatchNormalization\n",
        "from keras.layers.convolutional import Conv2D\n",
        "from keras.layers.convolutional import MaxPooling2D\n",
        "from keras.layers.core import Activation\n",
        "from keras.layers.core import Flatten\n",
        "from keras.layers.core import Dropout\n",
        "from keras.layers.core import Dense\n",
        "from keras import backend as K\n",
        "import matplotlib.pyplot as plt\n",
        "# from pyimagesearch.smallervggnet import SmallerVGGNet\n",
        "from imutils import paths\n",
        "import numpy as np\n",
        "import argparse\n",
        "import random\n",
        "import pickle\n",
        "import cv2\n",
        "import os"
      ],
      "execution_count": null,
      "outputs": []
    },
    {
      "cell_type": "code",
      "metadata": {
        "id": "mqu8IW5S7l-1"
      },
      "source": [
        "# initialize the number of epochs to train for, initial learning rate,\n",
        "# batch size, and image dimensions\n",
        "EPOCHS = 50\n",
        "INIT_LR = 1e-3\n",
        "BS = 32\n",
        "IMAGE_DIMS = (96, 96, 3)\n"
      ],
      "execution_count": null,
      "outputs": []
    },
    {
      "cell_type": "code",
      "metadata": {
        "id": "7p1bF4wt7l7z"
      },
      "source": [
        "imagePaths = sorted(list(paths.list_images(\"DatasetSide\")))\n",
        "random.seed(42)\n",
        "random.shuffle(imagePaths)"
      ],
      "execution_count": null,
      "outputs": []
    },
    {
      "cell_type": "code",
      "metadata": {
        "id": "WDvSRccq7l5E"
      },
      "source": [
        "data = []\n",
        "labels = []\n",
        "\n",
        "# loop over the input images\n",
        "for imagePath in imagePaths:\n",
        "\t# load the image, pre-process it, and store it in the data list\n",
        "\timage = cv2.imread(imagePath)\n",
        "\timage = cv2.resize(image, (IMAGE_DIMS[1], IMAGE_DIMS[0]))\n",
        "\timage = img_to_array(image)\n",
        "\tdata.append(image)\n",
        "\n",
        "\t# extract set of class labels from the image path and update the\n",
        "\t# labels list\n",
        "\tl = label = imagePath.split(os.path.sep)[-2].split(\"_\")\n",
        "\tlabels.append(l)\n"
      ],
      "execution_count": null,
      "outputs": []
    },
    {
      "cell_type": "markdown",
      "metadata": {
        "id": "z6cQYeZHCQOg"
      },
      "source": [
        "### To check the total number of images present in the dataset"
      ]
    },
    {
      "cell_type": "code",
      "metadata": {
        "colab": {
          "base_uri": "https://localhost:8080/"
        },
        "id": "5IZR3UKZ7l2Z",
        "outputId": "b5eb32ed-670f-46ba-c479-d23d71c24f92"
      },
      "source": [
        "# scale the raw pixel intensities to the range [0, 1]\n",
        "data = np.array(data, dtype=\"float\") / 255.0\n",
        "labels = np.array(labels)\n",
        "print(\"[INFO] data matrix: {} images ({:.2f}MB)\".format(\n",
        "\tlen(imagePaths), data.nbytes / (1024 * 1000.0)))\n",
        "\n",
        "# binarize the labels using scikit-learn's special multi-label\n",
        "# binarizer implementation\n",
        "print(\"[INFO] class labels:\")\n",
        "mlb = MultiLabelBinarizer()\n",
        "labels = mlb.fit_transform(labels)\n"
      ],
      "execution_count": null,
      "outputs": [
        {
          "output_type": "stream",
          "name": "stdout",
          "text": [
            "[INFO] data matrix: 466 images (100.66MB)\n",
            "[INFO] class labels:\n"
          ]
        }
      ]
    },
    {
      "cell_type": "markdown",
      "metadata": {
        "id": "ac37eg5PaoFc"
      },
      "source": [
        "# **Checking the Labels**"
      ]
    },
    {
      "cell_type": "code",
      "metadata": {
        "colab": {
          "base_uri": "https://localhost:8080/"
        },
        "id": "FXkkcXfV8Bqc",
        "outputId": "d08ae584-73d0-4f67-fc60-00dab1223fa2"
      },
      "source": [
        "# loop over each of the possible class labels and show them\n",
        "for (i, label) in enumerate(mlb.classes_):\n",
        "\tprint(\"{}. {}\".format(i + 1, label))\n"
      ],
      "execution_count": null,
      "outputs": [
        {
          "output_type": "stream",
          "name": "stdout",
          "text": [
            "1. Front\n",
            "2. Rear\n",
            "3. Side Car\n"
          ]
        }
      ]
    },
    {
      "cell_type": "markdown",
      "metadata": {
        "id": "qvwnHgvra1p_"
      },
      "source": [
        "# **Train-Test Split**"
      ]
    },
    {
      "cell_type": "code",
      "metadata": {
        "id": "j2nBiY_48Bnh"
      },
      "source": [
        "# the data for training and the remaining 20% for testing\n",
        "(trainX, testX, trainY, testY) = train_test_split(data,\n",
        "\tlabels, test_size=0.2, random_state=42)"
      ],
      "execution_count": null,
      "outputs": []
    },
    {
      "cell_type": "markdown",
      "metadata": {
        "id": "_BZbzYGQbMEC"
      },
      "source": [
        "# **Data Augmentation**\n",
        "\n",
        "### Generated a data augmentation inorder to increase the amount of dataset and avoid overfitting"
      ]
    },
    {
      "cell_type": "code",
      "metadata": {
        "id": "6INpLGAI8BlI"
      },
      "source": [
        "# construct the image generator for data augmentation\n",
        "aug = ImageDataGenerator(rotation_range=25, width_shift_range=0.1,\n",
        "\theight_shift_range=0.1, shear_range=0.2, zoom_range=0.2,\n",
        "\thorizontal_flip=True, fill_mode=\"nearest\")"
      ],
      "execution_count": null,
      "outputs": []
    },
    {
      "cell_type": "markdown",
      "metadata": {
        "id": "Ml1GjZxybkXv"
      },
      "source": [
        "# **Creating a TenLayerNetwork Model**\n",
        "\n",
        "### Added activation function as RELU"
      ]
    },
    {
      "cell_type": "code",
      "metadata": {
        "id": "t-5HxtN_M9bL"
      },
      "source": [
        "def threelayernetwork(width, height, depth, classes, finalAct=\"softmax\"):\n",
        "\t\t# initialize the model along with the input shape to be\n",
        "\t\t# \"channels last\" and the channels dimension itself\n",
        "\t\tmodel = Sequential()\n",
        "\t\tinputShape = (height, width, depth)\n",
        "\t\tchanDim = -1\n",
        "\n",
        "\t\t# if we are using \"channels first\", update the input shape\n",
        "\t\t# and channels dimension\n",
        "\t\tif K.image_data_format() == \"channels_first\":\n",
        "\t\t\tinputShape = (depth, height, width)\n",
        "\t\t\tchanDim = 1\n",
        "\n",
        "\t\t# CONV => RELU => POOL\n",
        "\t\tmodel.add(Conv2D(32, (3, 3), padding=\"same\",\n",
        "\t\t\tinput_shape=inputShape))\n",
        "\t\tmodel.add(Activation(\"relu\"))\n",
        "\t\tmodel.add(BatchNormalization(axis=chanDim))\n",
        "\t\tmodel.add(MaxPooling2D(pool_size=(3, 3)))\n",
        "\t\tmodel.add(Dropout(0.25))\n",
        "\n",
        "\t\t# (CONV => RELU) * 2 => POOL\n",
        "\t\tmodel.add(Conv2D(64, (3, 3), padding=\"same\"))\n",
        "\t\tmodel.add(Activation(\"relu\"))\n",
        "\t\tmodel.add(BatchNormalization(axis=chanDim))\n",
        "\t\tmodel.add(Conv2D(64, (3, 3), padding=\"same\"))\n",
        "\t\tmodel.add(Activation(\"relu\"))\n",
        "\t\tmodel.add(BatchNormalization(axis=chanDim))\n",
        "\t\tmodel.add(MaxPooling2D(pool_size=(2, 2)))\n",
        "\t\tmodel.add(Dropout(0.25))\n",
        "\n",
        "\t\t# (CONV => RELU) * 2 => POOL\n",
        "\t\tmodel.add(Conv2D(128, (3, 3), padding=\"same\"))\n",
        "\t\tmodel.add(Activation(\"relu\"))\n",
        "\t\tmodel.add(BatchNormalization(axis=chanDim))\n",
        "\t\tmodel.add(Conv2D(128, (3, 3), padding=\"same\"))\n",
        "\t\tmodel.add(Activation(\"relu\"))\n",
        "\t\tmodel.add(BatchNormalization(axis=chanDim))\n",
        "\t\tmodel.add(MaxPooling2D(pool_size=(2, 2)))\n",
        "\t\tmodel.add(Dropout(0.25))\n",
        "\n",
        "\t\t# first (and only) set of FC => RELU layers\n",
        "\t\tmodel.add(Flatten())\n",
        "\t\tmodel.add(Dense(1024))\n",
        "\t\tmodel.add(Activation(\"relu\"))\n",
        "\t\tmodel.add(BatchNormalization())\n",
        "\t\tmodel.add(Dropout(0.5))\n",
        "\n",
        "\t\t# softmax classifier\n",
        "\t\tmodel.add(Dense(classes))\n",
        "\t\tmodel.add(Activation(finalAct))\n",
        "\n",
        "\t\t# return the constructed network architecture\n",
        "\t\treturn model"
      ],
      "execution_count": null,
      "outputs": []
    },
    {
      "cell_type": "code",
      "metadata": {
        "id": "bqCm3VZA8Bim"
      },
      "source": [
        "model = threelayernetwork(\n",
        "\twidth=IMAGE_DIMS[1], height=IMAGE_DIMS[0],\n",
        "\tdepth=IMAGE_DIMS[2], classes=len(mlb.classes_),\n",
        "\tfinalAct=\"softmax\")\n"
      ],
      "execution_count": null,
      "outputs": []
    },
    {
      "cell_type": "markdown",
      "metadata": {
        "id": "NrEmmrSNcLV0"
      },
      "source": [
        "# **Gradient Estimation**"
      ]
    },
    {
      "cell_type": "code",
      "metadata": {
        "id": "mN7O6e5z8Bf9"
      },
      "source": [
        "# initialize the optimizer (SGD is sufficient)\n",
        "opt = Adam(learning_rate=INIT_LR, decay=INIT_LR / EPOCHS)"
      ],
      "execution_count": null,
      "outputs": []
    },
    {
      "cell_type": "markdown",
      "metadata": {
        "id": "4lnuy4occfNq"
      },
      "source": [
        "# **Cost Function**"
      ]
    },
    {
      "cell_type": "code",
      "metadata": {
        "id": "vsT-Kuym7lzz"
      },
      "source": [
        "# compile the model using binary cross-entropy rather than\n",
        "# categorical cross-entropy -- this may seem counterintuitive for\n",
        "# multi-label classification, but keep in mind that the goal here\n",
        "# is to treat each output label as an independent Bernoulli\n",
        "# distribution\n",
        "model.compile(loss=\"categorical_crossentropy\", optimizer=opt,\n",
        "\tmetrics=[\"accuracy\"])"
      ],
      "execution_count": null,
      "outputs": []
    },
    {
      "cell_type": "code",
      "metadata": {
        "id": "aqGLDekF8Twv",
        "colab": {
          "base_uri": "https://localhost:8080/"
        },
        "outputId": "390e7759-aae2-4184-e188-9db3ef277d6b"
      },
      "source": [
        "H = model.fit_generator(\n",
        "\taug.flow(trainX, trainY, batch_size=BS),\n",
        "\tvalidation_data=(testX, testY),\n",
        "\tsteps_per_epoch=len(trainX) // BS,\n",
        "\tepochs=EPOCHS, verbose=1)"
      ],
      "execution_count": null,
      "outputs": [
        {
          "output_type": "stream",
          "name": "stderr",
          "text": [
            "/usr/local/lib/python3.7/dist-packages/ipykernel_launcher.py:5: UserWarning: `Model.fit_generator` is deprecated and will be removed in a future version. Please use `Model.fit`, which supports generators.\n",
            "  \"\"\"\n"
          ]
        },
        {
          "output_type": "stream",
          "name": "stdout",
          "text": [
            "Epoch 1/50\n",
            "11/11 [==============================] - 14s 179ms/step - loss: 2.3341 - accuracy: 0.3971 - val_loss: 1.3504 - val_accuracy: 0.4043\n",
            "Epoch 2/50\n",
            "11/11 [==============================] - 1s 117ms/step - loss: 2.2133 - accuracy: 0.4794 - val_loss: 1.2612 - val_accuracy: 0.4255\n",
            "Epoch 3/50\n",
            "11/11 [==============================] - 1s 117ms/step - loss: 1.6702 - accuracy: 0.5176 - val_loss: 1.3040 - val_accuracy: 0.4255\n",
            "Epoch 4/50\n",
            "11/11 [==============================] - 1s 123ms/step - loss: 1.4879 - accuracy: 0.5029 - val_loss: 3.0047 - val_accuracy: 0.4255\n",
            "Epoch 5/50\n",
            "11/11 [==============================] - 1s 116ms/step - loss: 1.2418 - accuracy: 0.5794 - val_loss: 4.8822 - val_accuracy: 0.4255\n",
            "Epoch 6/50\n",
            "11/11 [==============================] - 1s 115ms/step - loss: 1.1488 - accuracy: 0.5706 - val_loss: 3.0056 - val_accuracy: 0.4255\n",
            "Epoch 7/50\n",
            "11/11 [==============================] - 1s 116ms/step - loss: 1.0752 - accuracy: 0.6118 - val_loss: 5.9906 - val_accuracy: 0.4255\n",
            "Epoch 8/50\n",
            "11/11 [==============================] - 1s 118ms/step - loss: 1.0805 - accuracy: 0.6080 - val_loss: 5.9730 - val_accuracy: 0.4255\n",
            "Epoch 9/50\n",
            "11/11 [==============================] - 1s 135ms/step - loss: 0.9013 - accuracy: 0.6971 - val_loss: 5.7911 - val_accuracy: 0.4255\n",
            "Epoch 10/50\n",
            "11/11 [==============================] - 2s 219ms/step - loss: 1.0314 - accuracy: 0.6382 - val_loss: 5.1341 - val_accuracy: 0.4255\n",
            "Epoch 11/50\n",
            "11/11 [==============================] - 2s 195ms/step - loss: 1.0247 - accuracy: 0.6059 - val_loss: 5.9330 - val_accuracy: 0.4255\n",
            "Epoch 12/50\n",
            "11/11 [==============================] - 2s 190ms/step - loss: 0.8973 - accuracy: 0.6471 - val_loss: 3.9385 - val_accuracy: 0.4255\n",
            "Epoch 13/50\n",
            "11/11 [==============================] - 2s 147ms/step - loss: 0.8686 - accuracy: 0.6824 - val_loss: 2.1881 - val_accuracy: 0.3830\n",
            "Epoch 14/50\n",
            "11/11 [==============================] - 1s 116ms/step - loss: 0.8480 - accuracy: 0.6824 - val_loss: 4.5381 - val_accuracy: 0.4149\n",
            "Epoch 15/50\n",
            "11/11 [==============================] - 1s 115ms/step - loss: 0.8095 - accuracy: 0.7088 - val_loss: 3.2003 - val_accuracy: 0.4255\n",
            "Epoch 16/50\n",
            "11/11 [==============================] - 1s 115ms/step - loss: 0.8198 - accuracy: 0.6853 - val_loss: 3.9982 - val_accuracy: 0.1383\n",
            "Epoch 17/50\n",
            "11/11 [==============================] - 1s 119ms/step - loss: 0.7176 - accuracy: 0.7382 - val_loss: 4.5654 - val_accuracy: 0.1702\n",
            "Epoch 18/50\n",
            "11/11 [==============================] - 1s 116ms/step - loss: 0.7454 - accuracy: 0.7176 - val_loss: 4.5689 - val_accuracy: 0.4043\n",
            "Epoch 19/50\n",
            "11/11 [==============================] - 1s 118ms/step - loss: 0.7823 - accuracy: 0.7176 - val_loss: 6.8421 - val_accuracy: 0.3830\n",
            "Epoch 20/50\n",
            "11/11 [==============================] - 1s 120ms/step - loss: 0.8228 - accuracy: 0.6875 - val_loss: 7.9398 - val_accuracy: 0.4255\n",
            "Epoch 21/50\n",
            "11/11 [==============================] - 1s 116ms/step - loss: 0.6783 - accuracy: 0.7382 - val_loss: 6.0343 - val_accuracy: 0.4149\n",
            "Epoch 22/50\n",
            "11/11 [==============================] - 1s 113ms/step - loss: 0.6962 - accuracy: 0.7382 - val_loss: 5.4497 - val_accuracy: 0.3085\n",
            "Epoch 23/50\n",
            "11/11 [==============================] - 1s 114ms/step - loss: 0.6317 - accuracy: 0.7588 - val_loss: 4.7438 - val_accuracy: 0.4043\n",
            "Epoch 24/50\n",
            "11/11 [==============================] - 1s 113ms/step - loss: 0.6787 - accuracy: 0.7324 - val_loss: 5.6684 - val_accuracy: 0.3830\n",
            "Epoch 25/50\n",
            "11/11 [==============================] - 2s 205ms/step - loss: 0.6787 - accuracy: 0.7294 - val_loss: 3.8643 - val_accuracy: 0.2553\n",
            "Epoch 26/50\n",
            "11/11 [==============================] - 2s 204ms/step - loss: 0.6424 - accuracy: 0.7647 - val_loss: 4.8490 - val_accuracy: 0.3404\n",
            "Epoch 27/50\n",
            "11/11 [==============================] - 2s 144ms/step - loss: 0.6395 - accuracy: 0.7412 - val_loss: 3.2602 - val_accuracy: 0.2979\n",
            "Epoch 28/50\n",
            "11/11 [==============================] - 1s 115ms/step - loss: 0.6210 - accuracy: 0.7618 - val_loss: 3.7270 - val_accuracy: 0.2979\n",
            "Epoch 29/50\n",
            "11/11 [==============================] - 1s 120ms/step - loss: 0.5670 - accuracy: 0.7727 - val_loss: 2.8572 - val_accuracy: 0.3830\n",
            "Epoch 30/50\n",
            "11/11 [==============================] - 1s 113ms/step - loss: 0.5526 - accuracy: 0.8029 - val_loss: 5.4769 - val_accuracy: 0.3085\n",
            "Epoch 31/50\n",
            "11/11 [==============================] - 1s 119ms/step - loss: 0.4484 - accuracy: 0.8353 - val_loss: 3.0413 - val_accuracy: 0.4149\n",
            "Epoch 32/50\n",
            "11/11 [==============================] - 1s 115ms/step - loss: 0.5428 - accuracy: 0.8029 - val_loss: 2.8792 - val_accuracy: 0.3723\n",
            "Epoch 33/50\n",
            "11/11 [==============================] - 1s 114ms/step - loss: 0.4891 - accuracy: 0.8235 - val_loss: 2.2564 - val_accuracy: 0.3723\n",
            "Epoch 34/50\n",
            "11/11 [==============================] - 1s 114ms/step - loss: 0.4326 - accuracy: 0.8382 - val_loss: 2.3465 - val_accuracy: 0.4362\n",
            "Epoch 35/50\n",
            "11/11 [==============================] - 1s 113ms/step - loss: 0.4702 - accuracy: 0.8412 - val_loss: 3.0051 - val_accuracy: 0.3404\n",
            "Epoch 36/50\n",
            "11/11 [==============================] - 1s 121ms/step - loss: 0.5181 - accuracy: 0.8147 - val_loss: 1.5839 - val_accuracy: 0.5957\n",
            "Epoch 37/50\n",
            "11/11 [==============================] - 1s 114ms/step - loss: 0.4485 - accuracy: 0.8176 - val_loss: 1.7946 - val_accuracy: 0.4894\n",
            "Epoch 38/50\n",
            "11/11 [==============================] - 1s 114ms/step - loss: 0.5582 - accuracy: 0.8265 - val_loss: 3.4998 - val_accuracy: 0.3298\n",
            "Epoch 39/50\n",
            "11/11 [==============================] - 3s 201ms/step - loss: 0.4894 - accuracy: 0.8324 - val_loss: 1.7547 - val_accuracy: 0.4894\n",
            "Epoch 40/50\n",
            "11/11 [==============================] - 1s 118ms/step - loss: 0.4919 - accuracy: 0.8409 - val_loss: 1.5187 - val_accuracy: 0.5319\n",
            "Epoch 41/50\n",
            "11/11 [==============================] - 1s 114ms/step - loss: 0.4722 - accuracy: 0.8324 - val_loss: 1.2872 - val_accuracy: 0.5851\n",
            "Epoch 42/50\n",
            "11/11 [==============================] - 1s 115ms/step - loss: 0.3614 - accuracy: 0.8706 - val_loss: 1.8269 - val_accuracy: 0.4468\n",
            "Epoch 43/50\n",
            "11/11 [==============================] - 1s 116ms/step - loss: 0.4090 - accuracy: 0.8441 - val_loss: 2.1659 - val_accuracy: 0.4255\n",
            "Epoch 44/50\n",
            "11/11 [==============================] - 1s 117ms/step - loss: 0.4357 - accuracy: 0.8441 - val_loss: 1.9862 - val_accuracy: 0.4255\n",
            "Epoch 45/50\n",
            "11/11 [==============================] - 1s 115ms/step - loss: 0.3479 - accuracy: 0.8588 - val_loss: 1.1351 - val_accuracy: 0.6596\n",
            "Epoch 46/50\n",
            "11/11 [==============================] - 1s 116ms/step - loss: 0.3139 - accuracy: 0.8864 - val_loss: 1.7206 - val_accuracy: 0.5106\n",
            "Epoch 47/50\n",
            "11/11 [==============================] - 1s 115ms/step - loss: 0.3287 - accuracy: 0.8559 - val_loss: 1.8330 - val_accuracy: 0.4787\n",
            "Epoch 48/50\n",
            "11/11 [==============================] - 1s 110ms/step - loss: 0.4591 - accuracy: 0.8353 - val_loss: 1.4187 - val_accuracy: 0.5851\n",
            "Epoch 49/50\n",
            "11/11 [==============================] - 1s 114ms/step - loss: 0.3120 - accuracy: 0.8824 - val_loss: 1.3981 - val_accuracy: 0.6383\n",
            "Epoch 50/50\n",
            "11/11 [==============================] - 1s 114ms/step - loss: 0.3102 - accuracy: 0.8706 - val_loss: 1.6154 - val_accuracy: 0.5426\n"
          ]
        }
      ]
    },
    {
      "cell_type": "code",
      "metadata": {
        "colab": {
          "base_uri": "https://localhost:8080/"
        },
        "id": "9ltJ8jvV8TuT",
        "outputId": "43303c46-76a1-47fd-b3e1-2ddb74933b57"
      },
      "source": [
        "print(\"[INFO] serializing network...\")\n",
        "model.save(\"Car.model\")"
      ],
      "execution_count": null,
      "outputs": [
        {
          "output_type": "stream",
          "name": "stdout",
          "text": [
            "[INFO] serializing network...\n",
            "INFO:tensorflow:Assets written to: Car.model/assets\n"
          ]
        }
      ]
    },
    {
      "cell_type": "code",
      "metadata": {
        "colab": {
          "base_uri": "https://localhost:8080/"
        },
        "id": "6sfLe6Sd8Trj",
        "outputId": "be023c99-c13d-4ba4-8036-e5907a7afd73"
      },
      "source": [
        "model.save_weights(\"sidemodel.h5\")\n",
        "print(\"Saved model to disk\")"
      ],
      "execution_count": null,
      "outputs": [
        {
          "output_type": "stream",
          "name": "stdout",
          "text": [
            "Saved model to disk\n"
          ]
        }
      ]
    },
    {
      "cell_type": "code",
      "metadata": {
        "colab": {
          "base_uri": "https://localhost:8080/",
          "height": 317
        },
        "id": "mb-fJgB78To6",
        "outputId": "167077a2-6e04-4117-bed3-1653139291d7"
      },
      "source": [
        "# plot the training loss and accuracy\n",
        "plt.style.use(\"ggplot\")\n",
        "plt.figure()\n",
        "N = EPOCHS\n",
        "plt.plot(np.arange(0, N), H.history[\"loss\"], label=\"train_loss\")\n",
        "plt.plot(np.arange(0, N), H.history[\"val_loss\"], label=\"val_loss\")\n",
        "plt.plot(np.arange(0, N), H.history[\"accuracy\"], label=\"train_acc\")\n",
        "plt.plot(np.arange(0, N), H.history[\"val_accuracy\"], label=\"val_accuracy\")\n",
        "plt.title(\"Training Loss and Accuracy\")\n",
        "plt.xlabel(\"Epoch #\")\n",
        "plt.ylabel(\"Loss/Accuracy\")\n",
        "plt.legend(loc=\"upper left\")\n",
        "# plt.savefig(args[\"plot\"])"
      ],
      "execution_count": null,
      "outputs": [
        {
          "output_type": "execute_result",
          "data": {
            "text/plain": [
              "<matplotlib.legend.Legend at 0x7f0bf70ebd90>"
            ]
          },
          "metadata": {},
          "execution_count": 20
        },
        {
          "output_type": "display_data",
          "data": {
            "image/png": "[encoded data removed]",
            "text/plain": [
              "<Figure size 432x288 with 1 Axes>"
            ]
          },
          "metadata": {}
        }
      ]
    },
    {
      "cell_type": "code",
      "metadata": {
        "id": "5R_gPf1Z8TmL"
      },
      "source": [
        "f = open(\"mlb.pickle\", \"wb\")\n",
        "f.write(pickle.dumps(mlb))\n",
        "f.close()\n"
      ],
      "execution_count": null,
      "outputs": []
    },
    {
      "cell_type": "markdown",
      "metadata": {
        "id": "qj7VlQhPAZ5i"
      },
      "source": [
        "Test the model"
      ]
    },
    {
      "cell_type": "code",
      "metadata": {
        "colab": {
          "base_uri": "https://localhost:8080/"
        },
        "id": "qfP-cWxLCz4k",
        "outputId": "e29df332-7a8c-4b96-cb7e-6b50ae97951d"
      },
      "source": [
        "pip install imutils \n"
      ],
      "execution_count": null,
      "outputs": [
        {
          "output_type": "stream",
          "name": "stdout",
          "text": [
            "Requirement already satisfied: imutils in /usr/local/lib/python3.7/dist-packages (0.5.4)\n"
          ]
        }
      ]
    },
    {
      "cell_type": "code",
      "metadata": {
        "id": "uzD3bBFLC_fw"
      },
      "source": [
        "import imutils "
      ],
      "execution_count": null,
      "outputs": []
    },
    {
      "cell_type": "code",
      "metadata": {
        "id": "PvEdDe7zAGxi"
      },
      "source": [
        "image = cv2.imread(\"/content/drive/MyDrive/Dataset/Test/Damage/Door (2).jpg\")\n",
        "output = imutils.resize(image, width=600)\n",
        " \n",
        "# pre-process the image for classification\n",
        "image = cv2.resize(image, (96, 96))\n",
        "image = image.astype(\"float\") / 255.0\n",
        "image = img_to_array(image)\n",
        "image = np.expand_dims(image, axis=0)"
      ],
      "execution_count": null,
      "outputs": []
    },
    {
      "cell_type": "code",
      "metadata": {
        "id": "0VypB8wVAGuz"
      },
      "source": [
        "mlb = pickle.loads(open(\"mlb.pickle\", \"rb\").read())\n"
      ],
      "execution_count": null,
      "outputs": []
    },
    {
      "cell_type": "code",
      "metadata": {
        "colab": {
          "base_uri": "https://localhost:8080/"
        },
        "id": "Xez00FWuAGsC",
        "outputId": "2e19b93a-7c1e-4067-d209-0b2042fadadc"
      },
      "source": [
        "print(\"[INFO] classifying image...\")\n",
        "proba = model.predict(image)[0]\n",
        "idxs = np.argsort(proba)[::-1][:]"
      ],
      "execution_count": null,
      "outputs": [
        {
          "output_type": "stream",
          "name": "stdout",
          "text": [
            "[INFO] classifying image...\n"
          ]
        }
      ]
    },
    {
      "cell_type": "code",
      "metadata": {
        "colab": {
          "base_uri": "https://localhost:8080/"
        },
        "id": "I1mDuyQQDMAr",
        "outputId": "58174f02-0af7-4e3b-f964-b0c578a36cae"
      },
      "source": [
        "proba"
      ],
      "execution_count": null,
      "outputs": [
        {
          "output_type": "execute_result",
          "data": {
            "text/plain": [
              "array([2.5121478e-04, 1.0539932e-03, 9.9869484e-01], dtype=float32)"
            ]
          },
          "metadata": {},
          "execution_count": 64
        }
      ]
    },
    {
      "cell_type": "code",
      "metadata": {
        "colab": {
          "base_uri": "https://localhost:8080/"
        },
        "id": "fODcyBi1DiGs",
        "outputId": "3ae60425-555b-41d1-c671-4c3d2709e2ad"
      },
      "source": [
        "label2={}\n",
        "\n",
        "# loop over the indexes of the high confidence class labels\n",
        "for (i, j) in enumerate(idxs):\n",
        "\t# build the label and draw the label on the image\n",
        "    #if (mlb.classes_[\"Front-smash\"])\n",
        "\t#label = \"{}: {:.2f}%\".format(mlb.classes_[j], proba[j] * 100)\n",
        "    \n",
        "\tlabel2.update({mlb.classes_[j]:proba[j] * 100})\n",
        "\n",
        "print(type(mlb.classes_))  "
      ],
      "execution_count": null,
      "outputs": [
        {
          "output_type": "stream",
          "name": "stdout",
          "text": [
            "<class 'numpy.ndarray'>\n"
          ]
        }
      ]
    },
    {
      "cell_type": "code",
      "metadata": {
        "colab": {
          "base_uri": "https://localhost:8080/"
        },
        "id": "igtFxPOkDlBH",
        "outputId": "91ff7add-83e7-4236-bf7c-636b708f1958"
      },
      "source": [
        "label2"
      ],
      "execution_count": null,
      "outputs": [
        {
          "output_type": "execute_result",
          "data": {
            "text/plain": [
              "{'Front': 0.025121477665379643,\n",
              " 'Rear': 0.105399324093014,\n",
              " 'Side Car': 99.86948370933533}"
            ]
          },
          "metadata": {},
          "execution_count": 66
        }
      ]
    },
    {
      "cell_type": "code",
      "source": [
        ""
      ],
      "metadata": {
        "id": "74pXP3qSkDCM"
      },
      "execution_count": null,
      "outputs": []
    }
  ]
}